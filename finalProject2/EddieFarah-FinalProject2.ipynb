{
 "cells": [
  {
   "cell_type": "markdown",
   "metadata": {},
   "source": [
    "# Project Problem and Hypothesis"
   ]
  },
  {
   "cell_type": "markdown",
   "metadata": {},
   "source": [
    "## * What's the project about? What problem are you solving?"
   ]
  },
  {
   "cell_type": "markdown",
   "metadata": {},
   "source": [
    "Problem: Advertisers have no way of knowing how their campaigns are going to perform until they actually run the campaign and start loosing money.\n",
    "Advertisers have a problem trying to select the best target audience, campaign objective to run their campaigns against.Some insights data but no predictive model available.\n"
   ]
  },
  {
   "cell_type": "markdown",
   "metadata": {},
   "source": [
    "Project is about Predicting actual bid prices using: \n",
    "* Adsets Historical Bid Estimation Data (Bid prices + reach estimates)\n",
    "* Actual Insight data (Clicks, conversions, ..etc) over Campaigns, AdSets, Ads. "
   ]
  },
  {
   "cell_type": "markdown",
   "metadata": {},
   "source": [
    "### * Where does this seem to reside as a machine learning problem? Are you predicting some continuous number, or predicting a binary value?"
   ]
  },
  {
   "cell_type": "markdown",
   "metadata": {},
   "source": [
    "Predicting actual bid prices and To suggest/predict better Campaign objective. So I think I will use some models to predict continous numbers for the first goal, and other models to predict a binary value (best objective) for second goal."
   ]
  },
  {
   "cell_type": "markdown",
   "metadata": {},
   "source": [
    "### * What kind of impact do you think it could have?"
   ]
  },
  {
   "cell_type": "markdown",
   "metadata": {},
   "source": [
    "Suggest/Predict better Campaign objective and bid strategies for advertisers when they create new campaigns."
   ]
  },
  {
   "cell_type": "markdown",
   "metadata": {},
   "source": [
    "### * What do you think will have the most impact in predicting the value you are interested in solving for?"
   ]
  },
  {
   "cell_type": "markdown",
   "metadata": {},
   "source": [
    "Helping advertisers create better campaigns and predict campaign performance while creating the campaign and before they run the campaign"
   ]
  },
  {
   "cell_type": "markdown",
   "metadata": {},
   "source": [
    "# Datasets"
   ]
  },
  {
   "cell_type": "markdown",
   "metadata": {},
   "source": [
    "## * Description of data set available, at the field level"
   ]
  },
  {
   "cell_type": "markdown",
   "metadata": {},
   "source": [
    "CampaingStats: campaign/insights\n",
    "\n",
    " Name | Type | Description\n",
    "---| ---|---| ---|\n",
    "id | int | index \n",
    "campaign_id |int | ID number that is unique to each campaign.\n",
    "clicks | int| The total number of clicks on your campaign.\n",
    "spent | float| The total amount you've spent so far\n",
    "impressions |int | The number of times your ad was served.\n",
    "conversions |int | The number of actual conversions\n",
    "objective | str| The objective you selected for the campaign\n",
    "date | date | date of the recording \n",
    "\n",
    "AdSetStats: adset/insights\n",
    "\n",
    " Name | Type | Description\n",
    "---| ---|---| ---|\n",
    "id | int | index \n",
    "adset_id |int | ID number that is unique to each adset.\n",
    "campaign_id |int | ID number that is unique to each campaign.\n",
    "clicks | int| The total number of clicks on this adset.\n",
    "spent | float| The total amount the adset spent so far\n",
    "impressions |int | The number of times your adset was served.\n",
    "conversions |int | The number of actual adset conversions\n",
    "objective | str| The objective you selected for the campaign\n",
    "date | date | date of the recording \n",
    "\n",
    "AdStats: ad/insights\n",
    "\n",
    " Name | Type | Description\n",
    "---| ---|---| ---|\n",
    "id | int | index \n",
    "ad_id |int | ID number that is unique to each ad.\n",
    "adset_id |int | ID number that is unique to each adset.\n",
    "campaign_id |int | ID number that is unique to each campaign.\n",
    "clicks | int| The total number of clicks on this ad.\n",
    "spent | float| The total amount the ad spent so far\n",
    "impressions |int | The number of times your ad was served.\n",
    "conversions |int | The number of actual ad conversions\n",
    "objective | str| The objective you selected for the campaign\n",
    "date | date | date of the recording \n",
    "\n",
    "AdSetBids: adset/reachestimates\n",
    "\n",
    " Name | Type | Description\n",
    "---| ---|---| ---|\n",
    "id | int | index \n",
    "adset_id |int | ID number that is unique to each adset.\n",
    "campaign_id |int | ID number that is unique to each campaign.\n",
    "reach |int | The estimate number of users reached by this targeting\n",
    "cpa_min | float| representing the estimated bid amount needed to reach a minimum audience\n",
    "cpa_max | float| representing the estimated bid amount needed to reach a maximum audience\n",
    "cpa_median |float |  representing the estimated bid amount needed to reach a median audience\n",
    "cpc_min | float| representing the estimated bid amount needed to reach a minimum audience\n",
    "cpc_max | float|  representing the estimated bid amount needed to reach a maximum audience\n",
    "cpc_median |float | representing the estimated bid amount needed to reach a median audience\n",
    "cpm_min | float| representing the estimated bid amount needed to reach a minimum audience\n",
    "cpm_max | float| representing the estimated bid amount needed to reach a maximum audience\n",
    "cpm_median |float | representing the estimated bid amount needed to reach a median audience\n",
    "date | date | date of the recording "
   ]
  },
  {
   "cell_type": "markdown",
   "metadata": {},
   "source": [
    "## *  API Return"
   ]
  },
  {
   "cell_type": "code",
   "execution_count": 19,
   "metadata": {
    "collapsed": false
   },
   "outputs": [
    {
     "name": "stdout",
     "output_type": "stream",
     "text": [
      "https://graph.facebook.com/v2.4/6045003148016/insights?level=campaign_group&fields=actions,spend,clicks,impressions,campaign_group_id&action_breakdowns=action_type&date_preset=last_30_days\n",
      "Insights API simple result:[\n",
      "  {\n",
      "    \"date_stop\": \"2016-04-01\", \n",
      "    \"campaign_group_id\": \"6045003056616\", \n",
      "    \"date_start\": \"2016-04-01\", \n",
      "    \"actions\": [\n",
      "      {\n",
      "        \"value\": 3, \n",
      "        \"action_type\": \"comment\"\n",
      "      }\n",
      "    ], \n",
      "    \"clicks\": 10777, \n",
      "    \"impressions\": \"2393485\", \n",
      "    \"spend\": 4574.31\n",
      "  }\n",
      "]\n"
     ]
    }
   ],
   "source": [
    "import json\n",
    "data = [\n",
    "    {\n",
    "      \"actions\": [\n",
    "        {\n",
    "          \"action_type\": \"comment\",\n",
    "          \"value\": 3\n",
    "        }],\n",
    "      \"spend\": 4574.31,\n",
    "      \"clicks\": 10777,\n",
    "      \"impressions\": \"2393485\",\n",
    "      \"campaign_group_id\": \"6045003056616\",\n",
    "      \"date_start\": \"2016-04-01\",\n",
    "      \"date_stop\": \"2016-04-01\"\n",
    "    }\n",
    "  ]\n",
    "print('https://graph.facebook.com/v2.4/6045003148016/insights?level=campaign_group&fields=actions,spend,clicks,impressions,campaign_group_id&action_breakdowns=action_type&date_preset=last_30_days')\n",
    "print('Insights API simple result:' + json.dumps(data, indent=2))\n"
   ]
  },
  {
   "cell_type": "code",
   "execution_count": 22,
   "metadata": {
    "collapsed": false
   },
   "outputs": [
    {
     "name": "stdout",
     "output_type": "stream",
     "text": [
      "https://graph.facebook.com/v2.4/6037572979154/reachestimate\n",
      "Reachestimate API simple result:[\n",
      "  {\n",
      "    \"estimate_ready\": \"true\", \n",
      "    \"bid_estimations\": [\n",
      "      {\n",
      "        \"cpa_min\": 0, \n",
      "        \"cpa_median\": 0, \n",
      "        \"cpm_max\": 339, \n",
      "        \"cpc_max\": 1, \n",
      "        \"estimate_DAU\": 0, \n",
      "        \"account_budget\": 150000, \n",
      "        \"cpc_median\": 1, \n",
      "        \"pacing_status\": 0, \n",
      "        \"dedup_status\": 0, \n",
      "        \"cpc_min\": 1, \n",
      "        \"cpm_min\": 53, \n",
      "        \"cpm_median\": 212, \n",
      "        \"unsupported\": \"false\", \n",
      "        \"cpm_curve_data\": \"\", \n",
      "        \"location\": 3, \n",
      "        \"reach_max\": 0, \n",
      "        \"dedup_winning_rate\": 0, \n",
      "        \"reach_min\": 0, \n",
      "        \"cpa_curve_data\": \"\", \n",
      "        \"cpa_max\": 1, \n",
      "        \"cpc_curve_data\": \"\"\n",
      "      }\n",
      "    ], \n",
      "    \"users\": 800000\n",
      "  }\n",
      "]\n"
     ]
    }
   ],
   "source": [
    "import json\n",
    "data = [{\n",
    "    \"users\": 800000,\n",
    "    \"bid_estimations\": [\n",
    "      {\n",
    "        \"unsupported\": \"false\",\n",
    "        \"location\": 3,\n",
    "        \"cpa_min\": 0,\n",
    "        \"cpa_median\": 0,\n",
    "        \"cpa_max\": 1,\n",
    "        \"cpc_min\": 1,\n",
    "        \"cpc_median\": 1,\n",
    "        \"cpc_max\": 1,\n",
    "        \"cpm_min\": 53,\n",
    "        \"cpm_median\": 212,\n",
    "        \"cpm_max\": 339,\n",
    "        \"reach_min\": 0,\n",
    "        \"reach_max\": 0,\n",
    "        \"cpm_curve_data\": \"\",\n",
    "        \"cpc_curve_data\": \"\",\n",
    "        \"cpa_curve_data\": \"\",\n",
    "        \"dedup_winning_rate\": 0,\n",
    "        \"dedup_status\": 0,\n",
    "        \"pacing_status\": 0,\n",
    "        \"account_budget\": 150000,\n",
    "        \"estimate_DAU\": 0\n",
    "      }\n",
    "    ],\n",
    "    \"estimate_ready\": \"true\"\n",
    "  }]\n",
    "print('https://graph.facebook.com/v2.4/6037572979154/reachestimate')\n",
    "print('Reachestimate API simple result:' + json.dumps(data, indent=2))"
   ]
  },
  {
   "cell_type": "markdown",
   "metadata": {},
   "source": [
    "# Domain knowledge"
   ]
  },
  {
   "cell_type": "markdown",
   "metadata": {},
   "source": [
    "## * What experience do you already have around this area?"
   ]
  },
  {
   "cell_type": "markdown",
   "metadata": {},
   "source": [
    "Working for AutomateAds where we Fully automate the management of paid media campaigns (FaceBook, Instagram, Twitter and AdWords). Our model make Intelligent testing and optimization of campaigns, We also offer Complex creation and power/bulk features made simple and more powerful.\n",
    "Product features:\n",
    "* Bid and Spend Data Modeling/Fitting\n",
    "* Neural Network Predictive Bid Decision\n",
    "* Data Model Collection Update\n",
    "* Automation Layer Updates Campaign\n",
    "\n",
    "\n",
    "\n",
    "\n",
    "\n"
   ]
  },
  {
   "cell_type": "markdown",
   "metadata": {},
   "source": [
    "## * Does it relate or help inform the project in any way?"
   ]
  },
  {
   "cell_type": "markdown",
   "metadata": {},
   "source": [
    "Sure, Going forward trying to help Advertisers that have no way of knowing how their campaigns are going to perform until they actually run the campaign and start loosing money. Advertisers have a problem trying to select the best target audience, campaign objective to run their campaigns against."
   ]
  },
  {
   "cell_type": "markdown",
   "metadata": {},
   "source": [
    "# What other research efforts exist?"
   ]
  },
  {
   "cell_type": "markdown",
   "metadata": {},
   "source": [
    "### Facebook team has conducted a research and published a paper to predict clicks on ads using a model which combines decision trees with logistic regression\n",
    "\n",
    "Paper Abstract \"Online advertising allows advertisers to only bid and pay for measurable user responses, such as clicks on ads. As a consequence, click prediction systems are central to most online advertising systems. With over 750 million daily active users and over 1 million active advertisers, predicting clicks on Facebook ads is a challenging machine learning task."
   ]
  },
  {
   "cell_type": "markdown",
   "metadata": {},
   "source": [
    "Paper Link: https://research.facebook.com/publications/practical-lessons-from-predicting-clicks-on-ads-at-facebook/"
   ]
  },
  {
   "cell_type": "markdown",
   "metadata": {},
   "source": [
    "### Include a benchmark"
   ]
  },
  {
   "cell_type": "markdown",
   "metadata": {},
   "source": [
    "\"this paper we introduce a model which combines decision trees with logistic regression, outperforming either of these\n",
    "methods on its own by over 3%, an improvement with significant impact to the overall system performance. We then\n",
    "explore how a number of fundamental parameters impact the final prediction performance of our system. Not surprisingly, the most important thing is to have the right features: those capturing historical information about the user or ad dominate other types of features\""
   ]
  },
  {
   "cell_type": "markdown",
   "metadata": {},
   "source": [
    "# Project Concerns"
   ]
  },
  {
   "cell_type": "markdown",
   "metadata": {},
   "source": [
    "### * What questions do you have about your project? What are you not sure you quite yet understand?"
   ]
  },
  {
   "cell_type": "markdown",
   "metadata": {},
   "source": [
    "- Still Trying to figure out the connection between reach estimate data and insights data\n",
    "- Tried to run couple of basic models but didn't get a hight R^2 \n",
    "- Still trying to figure out if I need to use Logistic Regression Versese Classification models"
   ]
  },
  {
   "cell_type": "markdown",
   "metadata": {},
   "source": [
    "### * What are the assumptions and caveats to the problem?"
   ]
  },
  {
   "cell_type": "markdown",
   "metadata": {},
   "source": [
    "- What data do you not have access to but wish you had?"
   ]
  },
  {
   "cell_type": "markdown",
   "metadata": {},
   "source": [
    "I wish I have access to other Ad campaigns insight data using the facebook Ads API which is not possible right now since its not a public API. By using more data points I should have built better models and gained more insights. "
   ]
  },
  {
   "cell_type": "markdown",
   "metadata": {},
   "source": [
    "* What is already implied about the observations in your data set?"
   ]
  },
  {
   "cell_type": "markdown",
   "metadata": {},
   "source": [
    "The Data does not represent the entire Population. The fact that only the sample data that I have is the data aquired by our\n",
    "company which could make the work harder to get into an optimal model."
   ]
  },
  {
   "cell_type": "markdown",
   "metadata": {},
   "source": [
    "### What are the risks to the project?"
   ]
  },
  {
   "cell_type": "markdown",
   "metadata": {},
   "source": [
    "* What's the cost of your model being wrong? (What's the benefit of your model being right?)"
   ]
  },
  {
   "cell_type": "markdown",
   "metadata": {},
   "source": [
    "- The cost of the model being wrong is to make wrong predictions for future campaigns and drive performance in the wrong direction. \n",
    "- However, building a good predicting model will give me the opprotunity to deploy that model as a predictive tool to help advertisers while creating their campaings."
   ]
  },
  {
   "cell_type": "markdown",
   "metadata": {},
   "source": [
    "* Is any of the data incorrect? Could it be incorrect?"
   ]
  },
  {
   "cell_type": "markdown",
   "metadata": {},
   "source": [
    "* Primary source of the data I have is from Facebook Ads API so unless they sent out some bad datapoints accedentaly (which is very rare) I don't see any other reasons why the data could be incorrect. "
   ]
  },
  {
   "cell_type": "markdown",
   "metadata": {},
   "source": [
    "# Outcomes"
   ]
  },
  {
   "cell_type": "markdown",
   "metadata": {},
   "source": [
    "* What do you expect the output to look like?"
   ]
  },
  {
   "cell_type": "markdown",
   "metadata": {},
   "source": [
    "I expect the outcome to take the form of a prediction model that would predict the performance of a campaign (primarly conversion)depending on other campaign features provided while creation. Such model could be powerful to predict if the campaign within the supplied setting will be profitable.\n",
    "The prediction model should have a regression componant to predict feature values along with a classification componant to predict the best objective the campaign should run with\n"
   ]
  },
  {
   "cell_type": "markdown",
   "metadata": {},
   "source": [
    "* What does your target audience expect the output to look like?"
   ]
  },
  {
   "cell_type": "markdown",
   "metadata": {},
   "source": [
    "Simple calculator, could be predictive tool or a notification engine that could predict how better the campaign is performing/will perform comparing to other campaigns considering same setting"
   ]
  },
  {
   "cell_type": "markdown",
   "metadata": {},
   "source": [
    "* What gain do you expect from your most important feature on its own?"
   ]
  },
  {
   "cell_type": "markdown",
   "metadata": {},
   "source": [
    "I think the most important feature I have in my dataset will help with giving the model more predicting power.Also Once variable importance has been identified we could try to investigate how those variables interact between them. For instance, we can plot the dependence of the target variable with another variable has been averaged over the values of the other variables not being taken into consideration. Some variables present a clear monotonic dependence with the target value, while others seem not very related to the target variable . This could be signaling an interaction between variables that could be further studied."
   ]
  },
  {
   "cell_type": "markdown",
   "metadata": {},
   "source": [
    "* How complicated does your model have to be?"
   ]
  },
  {
   "cell_type": "markdown",
   "metadata": {},
   "source": [
    "I think there is no issue with going with a relatively simple model that does need to be super complicated but I think everything is tide to the Accuracy of the model and the ability to make good predictions. "
   ]
  },
  {
   "cell_type": "markdown",
   "metadata": {},
   "source": [
    "* How successful does your project have to be in order to be considered a \"success\"?"
   ]
  },
  {
   "cell_type": "markdown",
   "metadata": {},
   "source": [
    "The project will considered succesfull if I will be able to create good model for predicting campaign performance. \n",
    "A better achivement would be creating a user interface and to be able to deploy the model and test it in real time with a friendly user interface."
   ]
  },
  {
   "cell_type": "markdown",
   "metadata": {},
   "source": [
    "* What will you do if the project is a bust (this happens! but it shouldn't here)?"
   ]
  },
  {
   "cell_type": "markdown",
   "metadata": {},
   "source": [
    "If results didnt fit the assumptions I had for the results I get, I will re-iterate by "
   ]
  }
 ],
 "metadata": {
  "kernelspec": {
   "display_name": "Python 2",
   "language": "python",
   "name": "python2"
  },
  "language_info": {
   "codemirror_mode": {
    "name": "ipython",
    "version": 2
   },
   "file_extension": ".py",
   "mimetype": "text/x-python",
   "name": "python",
   "nbconvert_exporter": "python",
   "pygments_lexer": "ipython2",
   "version": "2.7.11"
  }
 },
 "nbformat": 4,
 "nbformat_minor": 0
}
