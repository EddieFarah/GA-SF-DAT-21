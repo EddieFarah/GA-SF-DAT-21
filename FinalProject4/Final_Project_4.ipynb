{
 "cells": [
  {
   "cell_type": "code",
   "execution_count": 962,
   "metadata": {
    "collapsed": true
   },
   "outputs": [],
   "source": [
    "import pandas as pd\n",
    "import numpy as np\n",
    "import matplotlib.pyplot as plt\n",
    "import statsmodels.api as sm\n",
    "import pylab as pl\n",
    "from sklearn import linear_model\n",
    "import seaborn as sns\n",
    "import statsmodels.api as sm\n",
    "import statsmodels.formula.api as smf\n",
    "from sklearn import tree, ensemble, metrics, cross_validation, externals\n",
    "%matplotlib inline"
   ]
  },
  {
   "cell_type": "code",
   "execution_count": 963,
   "metadata": {
    "collapsed": false
   },
   "outputs": [],
   "source": [
    "data = pd.read_csv(\"output2.csv\")"
   ]
  },
  {
   "cell_type": "code",
   "execution_count": 964,
   "metadata": {
    "collapsed": false
   },
   "outputs": [],
   "source": [
    "data = data.drop('Unnamed: 0', 1)\n",
    "data = data.drop('cost_per_impression', 1)"
   ]
  },
  {
   "cell_type": "code",
   "execution_count": 965,
   "metadata": {
    "collapsed": true
   },
   "outputs": [],
   "source": [
    "data = data.dropna()"
   ]
  },
  {
   "cell_type": "code",
   "execution_count": 966,
   "metadata": {
    "collapsed": false
   },
   "outputs": [
    {
     "data": {
      "text/plain": [
       "Index([u'campaign_id', u'reach', u'cpa_min', u'cpa_max', u'cpa_median',\n",
       "       u'cpc_min', u'cpc_max', u'cpc_median', u'cpm_min', u'cpm_max',\n",
       "       u'cpm_median', u'clicks', u'spent', u'impressions', u'conversions',\n",
       "       u'objective', u'date', u'cost_per_click', u'cost_per_conversion',\n",
       "       u'Objective_EVENT_RESPONSES', u'Objective_LEAD_GENERATION',\n",
       "       u'Objective_LOCAL_AWARENESS', u'Objective_MOBILE_APP_ENGAGEMENT',\n",
       "       u'Objective_MOBILE_APP_INSTALLS', u'Objective_NONE',\n",
       "       u'Objective_PAGE_LIKES', u'Objective_POST_ENGAGEMENT',\n",
       "       u'Objective_VIDEO_VIEWS', u'Objective_WEBSITE_CLICKS',\n",
       "       u'Objective_WEBSITE_CONVERSIONS', u'campaign_group_id', u'bidStrategy',\n",
       "       u'maxBid', u'Bid_Type_CONVERSION_OPTIMIZE', u'Bid_Type_OPTIMIZE',\n",
       "       u'Bid_Type_ROTATE', u'Bid_Type_ROTATE_INDEFINITELY',\n",
       "       u'Bid_Type_automated', u'Bid_Type_cpc', u'Bid_Type_ocpm'],\n",
       "      dtype='object')"
      ]
     },
     "execution_count": 966,
     "metadata": {},
     "output_type": "execute_result"
    }
   ],
   "source": [
    "data.columns"
   ]
  },
  {
   "cell_type": "code",
   "execution_count": 967,
   "metadata": {
    "collapsed": true
   },
   "outputs": [],
   "source": [
    "def drop_cost_per_conversion_outliers(df):\n",
    "    print 'Dropping outliers'\n",
    "    print '- n (before) =', len(df)\n",
    "\n",
    "    Q1 = df.cost_per_conversion.quantile(.25)\n",
    "    Q2 = df.cost_per_conversion.quantile(.5)\n",
    "    Q3 = df.cost_per_conversion.quantile(.75)\n",
    "    IQR = Q3 - Q1\n",
    "\n",
    "    print '- Q1         =', Q1, '($M)'\n",
    "    print '- Q2/Median  =', Q2, '($M)'\n",
    "    print '- Q3         =', Q3, '($M)'\n",
    "\n",
    "    df.drop(df[(df.cost_per_conversion < Q1 - 1.5 * IQR) | (df.cost_per_conversion > Q3 + 1.5 * IQR)].index, inplace = True)\n",
    "\n",
    "    print '- n (after)  =', len(df)"
   ]
  },
  {
   "cell_type": "code",
   "execution_count": 968,
   "metadata": {
    "collapsed": true
   },
   "outputs": [],
   "source": [
    "def drop_reach_outliers(df):\n",
    "    print 'Dropping outliers'\n",
    "    print '- n (before) =', len(df)\n",
    "\n",
    "    Q1 = df.reach.quantile(.25)\n",
    "    Q2 = df.reach.quantile(.5)\n",
    "    Q3 = df.reach.quantile(.75)\n",
    "    IQR = Q3 - Q1\n",
    "\n",
    "    print '- Q1         =', Q1, '($M)'\n",
    "    print '- Q2/Median  =', Q2, '($M)'\n",
    "    print '- Q3         =', Q3, '($M)'\n",
    "\n",
    "    df.drop(df[(df.reach < Q1 - 1.5 * IQR) | (df.reach > Q3 + 1.5 * IQR)].index, inplace = True)\n",
    "\n",
    "    print '- n (after)  =', len(df)"
   ]
  },
  {
   "cell_type": "code",
   "execution_count": 969,
   "metadata": {
    "collapsed": false
   },
   "outputs": [
    {
     "name": "stdout",
     "output_type": "stream",
     "text": [
      "Dropping outliers\n",
      "- n (before) = 709\n",
      "- Q1         = 0.177419354839 ($M)\n",
      "- Q2/Median  = 0.520602836879 ($M)\n",
      "- Q3         = 2.47513513514 ($M)\n",
      "- n (after)  = 568\n"
     ]
    }
   ],
   "source": [
    "drop_cost_per_conversion_outliers(data)"
   ]
  },
  {
   "cell_type": "code",
   "execution_count": 970,
   "metadata": {
    "collapsed": false
   },
   "outputs": [
    {
     "name": "stdout",
     "output_type": "stream",
     "text": [
      "Dropping outliers\n",
      "- n (before) = 568\n",
      "- Q1         = 50750.0 ($M)\n",
      "- Q2/Median  = 354500.0 ($M)\n",
      "- Q3         = 1660000.0 ($M)\n",
      "- n (after)  = 495\n"
     ]
    }
   ],
   "source": [
    "drop_reach_outliers(data)"
   ]
  },
  {
   "cell_type": "code",
   "execution_count": 971,
   "metadata": {
    "collapsed": false
   },
   "outputs": [
    {
     "data": {
      "text/plain": [
       "<matplotlib.axes._subplots.AxesSubplot at 0x16f445d90>"
      ]
     },
     "execution_count": 971,
     "metadata": {},
     "output_type": "execute_result"
    },
    {
     "data": {
      "image/png": "[encoded data removed]",
      "text/plain": [
       "<matplotlib.figure.Figure at 0x16e563310>"
      ]
     },
     "metadata": {},
     "output_type": "display_data"
    }
   ],
   "source": [
    "# visualize the relationship between the features and the response using scatterplots\n",
    "fig, axs = plt.subplots(1, 3, sharey=True)\n",
    "data.plot(kind='scatter', x='cost_per_conversion', y='conversions', ax=axs[0], figsize=(16, 8))\n",
    "data.plot(kind='scatter', x='spent', y='conversions', ax=axs[1])\n",
    "data.plot(kind='scatter', x='reach', y='conversions', ax=axs[2])"
   ]
  },
  {
   "cell_type": "code",
   "execution_count": 972,
   "metadata": {
    "collapsed": false
   },
   "outputs": [
    {
     "data": {
      "text/plain": [
       "495"
      ]
     },
     "execution_count": 972,
     "metadata": {},
     "output_type": "execute_result"
    }
   ],
   "source": [
    "len(data)"
   ]
  },
  {
   "cell_type": "code",
   "execution_count": 973,
   "metadata": {
    "collapsed": true
   },
   "outputs": [],
   "source": [
    "data['maxBid_cpc'] = data.maxBid * data.Bid_Type_cpc"
   ]
  },
  {
   "cell_type": "code",
   "execution_count": 974,
   "metadata": {
    "collapsed": true
   },
   "outputs": [],
   "source": [
    "data['maxBid_ocpm'] = data.maxBid * data.Bid_Type_ocpm"
   ]
  },
  {
   "cell_type": "code",
   "execution_count": 975,
   "metadata": {
    "collapsed": false
   },
   "outputs": [],
   "source": [
    "training_df = data.sample(frac = .6, random_state = 1)\n",
    "test_df = data.drop(training_df.index)"
   ]
  },
  {
   "cell_type": "code",
   "execution_count": 976,
   "metadata": {
    "collapsed": false
   },
   "outputs": [],
   "source": [
    "training_df.reset_index(inplace = True)\n",
    "test_df.reset_index(inplace = True)"
   ]
  },
  {
   "cell_type": "code",
   "execution_count": 977,
   "metadata": {
    "collapsed": true
   },
   "outputs": [],
   "source": [
    "training_df = training_df.dropna()\n",
    "test_df = test_df.dropna()"
   ]
  },
  {
   "cell_type": "markdown",
   "metadata": {},
   "source": [
    "**features**\n",
    "\n",
    "- spent\n",
    "- cost_per_click\n",
    "- Objective_EVENT_RESPONSES,Objective_LEAD_GENERATION .....  \n",
    "- maxBid_cpc\n",
    "- maxBid_ocpm\n",
    "- Bid_Type_automated\n",
    "- Bid_Type_cpc\n",
    "- Bid_Type_ocpm\n",
    "- cpa_min \n",
    "- cpa_max  \n",
    "- cpa_median\n",
    "- cpc_min \n",
    "- cpc_max\n",
    "- cpc_median\n",
    "- cpm_min\n",
    "- cpm_max\n",
    "- cpm_median\n",
    "- objective\n",
    "- date\n",
    "- Bid_Type_CONVERSION_OPTIMIZE\n",
    "- Bid_Type_OPTIMIZE\n",
    "- Bid_Type_ROTATE\n",
    "- Bid_Type_ROTATE_INDEFINITELY"
   ]
  },
  {
   "cell_type": "markdown",
   "metadata": {},
   "source": [
    "** response **\n",
    "\n",
    "Conversions : Number of conversions for a particular campaign "
   ]
  },
  {
   "cell_type": "code",
   "execution_count": 978,
   "metadata": {
    "collapsed": false
   },
   "outputs": [
    {
     "name": "stdout",
     "output_type": "stream",
     "text": [
      "<class 'pandas.core.frame.DataFrame'>\n",
      "Int64Index: 297 entries, 0 to 296\n",
      "Data columns (total 43 columns):\n",
      "index                              297 non-null int64\n",
      "campaign_id                        297 non-null int64\n",
      "reach                              297 non-null int64\n",
      "cpa_min                            297 non-null float64\n",
      "cpa_max                            297 non-null float64\n",
      "cpa_median                         297 non-null float64\n",
      "cpc_min                            297 non-null float64\n",
      "cpc_max                            297 non-null float64\n",
      "cpc_median                         297 non-null float64\n",
      "cpm_min                            297 non-null float64\n",
      "cpm_max                            297 non-null float64\n",
      "cpm_median                         297 non-null float64\n",
      "clicks                             297 non-null int64\n",
      "spent                              297 non-null float64\n",
      "impressions                        297 non-null int64\n",
      "conversions                        297 non-null int64\n",
      "objective                          297 non-null object\n",
      "date                               297 non-null int64\n",
      "cost_per_click                     297 non-null float64\n",
      "cost_per_conversion                297 non-null float64\n",
      "Objective_EVENT_RESPONSES          297 non-null float64\n",
      "Objective_LEAD_GENERATION          297 non-null float64\n",
      "Objective_LOCAL_AWARENESS          297 non-null float64\n",
      "Objective_MOBILE_APP_ENGAGEMENT    297 non-null float64\n",
      "Objective_MOBILE_APP_INSTALLS      297 non-null float64\n",
      "Objective_NONE                     297 non-null float64\n",
      "Objective_PAGE_LIKES               297 non-null float64\n",
      "Objective_POST_ENGAGEMENT          297 non-null float64\n",
      "Objective_VIDEO_VIEWS              297 non-null float64\n",
      "Objective_WEBSITE_CLICKS           297 non-null float64\n",
      "Objective_WEBSITE_CONVERSIONS      297 non-null float64\n",
      "campaign_group_id                  297 non-null int64\n",
      "bidStrategy                        297 non-null object\n",
      "maxBid                             297 non-null float64\n",
      "Bid_Type_CONVERSION_OPTIMIZE       297 non-null float64\n",
      "Bid_Type_OPTIMIZE                  297 non-null float64\n",
      "Bid_Type_ROTATE                    297 non-null float64\n",
      "Bid_Type_ROTATE_INDEFINITELY       297 non-null float64\n",
      "Bid_Type_automated                 297 non-null float64\n",
      "Bid_Type_cpc                       297 non-null float64\n",
      "Bid_Type_ocpm                      297 non-null float64\n",
      "maxBid_cpc                         297 non-null float64\n",
      "maxBid_ocpm                        297 non-null float64\n",
      "dtypes: float64(33), int64(8), object(2)\n",
      "memory usage: 102.1+ KB\n"
     ]
    }
   ],
   "source": [
    "training_df.info()"
   ]
  },
  {
   "cell_type": "code",
   "execution_count": 979,
   "metadata": {
    "collapsed": false
   },
   "outputs": [
    {
     "data": {
      "text/plain": [
       "54     0\n",
       "75     0\n",
       "80     0\n",
       "93     0\n",
       "96     0\n",
       "128    0\n",
       "143    0\n",
       "146    0\n",
       "149    0\n",
       "154    0\n",
       "166    0\n",
       "167    0\n",
       "173    0\n",
       "200    0\n",
       "215    0\n",
       "221    0\n",
       "225    0\n",
       "262    0\n",
       "264    0\n",
       "294    0\n",
       "Name: maxBid, dtype: float64"
      ]
     },
     "execution_count": 979,
     "metadata": {},
     "output_type": "execute_result"
    }
   ],
   "source": [
    "training_df[training_df.Bid_Type_ocpm == 1].maxBid"
   ]
  },
  {
   "cell_type": "markdown",
   "metadata": {},
   "source": [
    "## Linear Regression Model "
   ]
  },
  {
   "cell_type": "code",
   "execution_count": 980,
   "metadata": {
    "collapsed": false
   },
   "outputs": [
    {
     "data": {
      "text/html": [
       "<table class=\"simpletable\">\n",
       "<caption>OLS Regression Results</caption>\n",
       "<tr>\n",
       "  <th>Dep. Variable:</th>    <td>cost_per_conversion</td> <th>  R-squared:         </th> <td>   0.376</td>\n",
       "</tr>\n",
       "<tr>\n",
       "  <th>Model:</th>                    <td>OLS</td>         <th>  Adj. R-squared:    </th> <td>   0.352</td>\n",
       "</tr>\n",
       "<tr>\n",
       "  <th>Method:</th>              <td>Least Squares</td>    <th>  F-statistic:       </th> <td>   15.60</td>\n",
       "</tr>\n",
       "<tr>\n",
       "  <th>Date:</th>              <td>Thu, 21 Apr 2016</td>   <th>  Prob (F-statistic):</th> <td>9.02e-24</td>\n",
       "</tr>\n",
       "<tr>\n",
       "  <th>Time:</th>                  <td>23:46:50</td>       <th>  Log-Likelihood:    </th> <td> -374.02</td>\n",
       "</tr>\n",
       "<tr>\n",
       "  <th>No. Observations:</th>       <td>   297</td>        <th>  AIC:               </th> <td>   772.0</td>\n",
       "</tr>\n",
       "<tr>\n",
       "  <th>Df Residuals:</th>           <td>   285</td>        <th>  BIC:               </th> <td>   816.4</td>\n",
       "</tr>\n",
       "<tr>\n",
       "  <th>Df Model:</th>               <td>    11</td>        <th>                     </th>     <td> </td>   \n",
       "</tr>\n",
       "<tr>\n",
       "  <th>Covariance Type:</th>       <td>nonrobust</td>      <th>                     </th>     <td> </td>   \n",
       "</tr>\n",
       "</table>\n",
       "<table class=\"simpletable\">\n",
       "<tr>\n",
       "                 <td></td>                    <th>coef</th>     <th>std err</th>      <th>t</th>      <th>P>|t|</th> <th>[95.0% Conf. Int.]</th> \n",
       "</tr>\n",
       "<tr>\n",
       "  <th>Intercept</th>                       <td>    0.2799</td> <td>    0.173</td> <td>    1.616</td> <td> 0.107</td> <td>   -0.061     0.621</td>\n",
       "</tr>\n",
       "<tr>\n",
       "  <th>spent</th>                           <td>    0.0015</td> <td>    0.001</td> <td>    2.876</td> <td> 0.004</td> <td>    0.000     0.003</td>\n",
       "</tr>\n",
       "<tr>\n",
       "  <th>Objective_EVENT_RESPONSES</th>       <td> 4.636e-14</td> <td> 5.76e-14</td> <td>    0.804</td> <td> 0.422</td> <td>-6.71e-14   1.6e-13</td>\n",
       "</tr>\n",
       "<tr>\n",
       "  <th>Objective_LEAD_GENERATION</th>       <td> 1.203e-14</td> <td> 1.35e-14</td> <td>    0.894</td> <td> 0.372</td> <td>-1.44e-14  3.85e-14</td>\n",
       "</tr>\n",
       "<tr>\n",
       "  <th>Objective_LOCAL_AWARENESS</th>       <td>-5.571e-16</td> <td> 5.81e-16</td> <td>   -0.958</td> <td> 0.339</td> <td> -1.7e-15  5.87e-16</td>\n",
       "</tr>\n",
       "<tr>\n",
       "  <th>Objective_MOBILE_APP_ENGAGEMENT</th> <td> 4.512e-15</td> <td>  5.2e-15</td> <td>    0.868</td> <td> 0.386</td> <td>-5.72e-15  1.47e-14</td>\n",
       "</tr>\n",
       "<tr>\n",
       "  <th>Objective_MOBILE_APP_INSTALLS</th>   <td>    2.4574</td> <td>    0.341</td> <td>    7.198</td> <td> 0.000</td> <td>    1.785     3.129</td>\n",
       "</tr>\n",
       "<tr>\n",
       "  <th>Objective_PAGE_LIKES</th>            <td>    0.5305</td> <td>    0.224</td> <td>    2.364</td> <td> 0.019</td> <td>    0.089     0.972</td>\n",
       "</tr>\n",
       "<tr>\n",
       "  <th>Objective_POST_ENGAGEMENT</th>       <td>   -0.2198</td> <td>    0.119</td> <td>   -1.854</td> <td> 0.065</td> <td>   -0.453     0.014</td>\n",
       "</tr>\n",
       "<tr>\n",
       "  <th>Objective_VIDEO_VIEWS</th>           <td> 1.767e-16</td> <td> 5.14e-16</td> <td>    0.344</td> <td> 0.731</td> <td>-8.35e-16  1.19e-15</td>\n",
       "</tr>\n",
       "<tr>\n",
       "  <th>Objective_WEBSITE_CONVERSIONS</th>   <td>    1.6398</td> <td>    0.181</td> <td>    9.070</td> <td> 0.000</td> <td>    1.284     1.996</td>\n",
       "</tr>\n",
       "<tr>\n",
       "  <th>Bid_Type_automated</th>              <td>    0.1299</td> <td>    0.167</td> <td>    0.780</td> <td> 0.436</td> <td>   -0.198     0.458</td>\n",
       "</tr>\n",
       "<tr>\n",
       "  <th>Bid_Type_cpc</th>                    <td>    0.5021</td> <td>    0.321</td> <td>    1.565</td> <td> 0.119</td> <td>   -0.129     1.134</td>\n",
       "</tr>\n",
       "<tr>\n",
       "  <th>maxBid_cpc</th>                      <td>  -10.6659</td> <td>   13.106</td> <td>   -0.814</td> <td> 0.416</td> <td>  -36.463    15.131</td>\n",
       "</tr>\n",
       "<tr>\n",
       "  <th>cpa_median</th>                      <td>    0.0139</td> <td>    0.007</td> <td>    2.004</td> <td> 0.046</td> <td>    0.000     0.028</td>\n",
       "</tr>\n",
       "<tr>\n",
       "  <th>cpc_median</th>                      <td>   -0.0607</td> <td>    0.045</td> <td>   -1.341</td> <td> 0.181</td> <td>   -0.150     0.028</td>\n",
       "</tr>\n",
       "<tr>\n",
       "  <th>cpm_median</th>                      <td>    0.0202</td> <td>    0.006</td> <td>    3.120</td> <td> 0.002</td> <td>    0.007     0.033</td>\n",
       "</tr>\n",
       "</table>\n",
       "<table class=\"simpletable\">\n",
       "<tr>\n",
       "  <th>Omnibus:</th>       <td>110.633</td> <th>  Durbin-Watson:     </th> <td>   1.960</td> \n",
       "</tr>\n",
       "<tr>\n",
       "  <th>Prob(Omnibus):</th> <td> 0.000</td>  <th>  Jarque-Bera (JB):  </th> <td> 470.344</td> \n",
       "</tr>\n",
       "<tr>\n",
       "  <th>Skew:</th>          <td> 1.526</td>  <th>  Prob(JB):          </th> <td>7.35e-103</td>\n",
       "</tr>\n",
       "<tr>\n",
       "  <th>Kurtosis:</th>      <td> 8.356</td>  <th>  Cond. No.          </th> <td>1.66e+19</td> \n",
       "</tr>\n",
       "</table>"
      ],
      "text/plain": [
       "<class 'statsmodels.iolib.summary.Summary'>\n",
       "\"\"\"\n",
       "                             OLS Regression Results                            \n",
       "===============================================================================\n",
       "Dep. Variable:     cost_per_conversion   R-squared:                       0.376\n",
       "Model:                             OLS   Adj. R-squared:                  0.352\n",
       "Method:                  Least Squares   F-statistic:                     15.60\n",
       "Date:                 Thu, 21 Apr 2016   Prob (F-statistic):           9.02e-24\n",
       "Time:                         23:46:50   Log-Likelihood:                -374.02\n",
       "No. Observations:                  297   AIC:                             772.0\n",
       "Df Residuals:                      285   BIC:                             816.4\n",
       "Df Model:                           11                                         \n",
       "Covariance Type:             nonrobust                                         \n",
       "===================================================================================================\n",
       "                                      coef    std err          t      P>|t|      [95.0% Conf. Int.]\n",
       "---------------------------------------------------------------------------------------------------\n",
       "Intercept                           0.2799      0.173      1.616      0.107        -0.061     0.621\n",
       "spent                               0.0015      0.001      2.876      0.004         0.000     0.003\n",
       "Objective_EVENT_RESPONSES        4.636e-14   5.76e-14      0.804      0.422     -6.71e-14   1.6e-13\n",
       "Objective_LEAD_GENERATION        1.203e-14   1.35e-14      0.894      0.372     -1.44e-14  3.85e-14\n",
       "Objective_LOCAL_AWARENESS       -5.571e-16   5.81e-16     -0.958      0.339      -1.7e-15  5.87e-16\n",
       "Objective_MOBILE_APP_ENGAGEMENT  4.512e-15    5.2e-15      0.868      0.386     -5.72e-15  1.47e-14\n",
       "Objective_MOBILE_APP_INSTALLS       2.4574      0.341      7.198      0.000         1.785     3.129\n",
       "Objective_PAGE_LIKES                0.5305      0.224      2.364      0.019         0.089     0.972\n",
       "Objective_POST_ENGAGEMENT          -0.2198      0.119     -1.854      0.065        -0.453     0.014\n",
       "Objective_VIDEO_VIEWS            1.767e-16   5.14e-16      0.344      0.731     -8.35e-16  1.19e-15\n",
       "Objective_WEBSITE_CONVERSIONS       1.6398      0.181      9.070      0.000         1.284     1.996\n",
       "Bid_Type_automated                  0.1299      0.167      0.780      0.436        -0.198     0.458\n",
       "Bid_Type_cpc                        0.5021      0.321      1.565      0.119        -0.129     1.134\n",
       "maxBid_cpc                        -10.6659     13.106     -0.814      0.416       -36.463    15.131\n",
       "cpa_median                          0.0139      0.007      2.004      0.046         0.000     0.028\n",
       "cpc_median                         -0.0607      0.045     -1.341      0.181        -0.150     0.028\n",
       "cpm_median                          0.0202      0.006      3.120      0.002         0.007     0.033\n",
       "==============================================================================\n",
       "Omnibus:                      110.633   Durbin-Watson:                   1.960\n",
       "Prob(Omnibus):                  0.000   Jarque-Bera (JB):              470.344\n",
       "Skew:                           1.526   Prob(JB):                    7.35e-103\n",
       "Kurtosis:                       8.356   Cond. No.                     1.66e+19\n",
       "==============================================================================\n",
       "\n",
       "Warnings:\n",
       "[1] Standard Errors assume that the covariance matrix of the errors is correctly specified.\n",
       "[2] The smallest eigenvalue is 1.91e-32. This might indicate that there are\n",
       "strong multicollinearity problems or that the design matrix is singular.\n",
       "\"\"\""
      ]
     },
     "execution_count": 980,
     "metadata": {},
     "output_type": "execute_result"
    }
   ],
   "source": [
    "model = smf.ols(formula = 'cost_per_conversion ~ spent + Objective_EVENT_RESPONSES + Objective_LEAD_GENERATION + Objective_LOCAL_AWARENESS + Objective_MOBILE_APP_ENGAGEMENT + Objective_MOBILE_APP_INSTALLS + Objective_PAGE_LIKES + Objective_POST_ENGAGEMENT + Objective_VIDEO_VIEWS+ Objective_WEBSITE_CONVERSIONS + Bid_Type_automated + Bid_Type_cpc + maxBid_cpc + cpa_median + cpc_median + cpm_median', data = training_df).fit()\n",
    "\n",
    "model.summary()"
   ]
  },
  {
   "cell_type": "code",
   "execution_count": 1023,
   "metadata": {
    "collapsed": false
   },
   "outputs": [
    {
     "data": {
      "text/html": [
       "<table class=\"simpletable\">\n",
       "<caption>OLS Regression Results</caption>\n",
       "<tr>\n",
       "  <th>Dep. Variable:</th>    <td>cost_per_conversion</td> <th>  R-squared:         </th> <td>   0.361</td>\n",
       "</tr>\n",
       "<tr>\n",
       "  <th>Model:</th>                    <td>OLS</td>         <th>  Adj. R-squared:    </th> <td>   0.348</td>\n",
       "</tr>\n",
       "<tr>\n",
       "  <th>Method:</th>              <td>Least Squares</td>    <th>  F-statistic:       </th> <td>   27.35</td>\n",
       "</tr>\n",
       "<tr>\n",
       "  <th>Date:</th>              <td>Fri, 22 Apr 2016</td>   <th>  Prob (F-statistic):</th> <td>8.30e-26</td>\n",
       "</tr>\n",
       "<tr>\n",
       "  <th>Time:</th>                  <td>12:13:52</td>       <th>  Log-Likelihood:    </th> <td> -377.42</td>\n",
       "</tr>\n",
       "<tr>\n",
       "  <th>No. Observations:</th>       <td>   297</td>        <th>  AIC:               </th> <td>   768.8</td>\n",
       "</tr>\n",
       "<tr>\n",
       "  <th>Df Residuals:</th>           <td>   290</td>        <th>  BIC:               </th> <td>   794.7</td>\n",
       "</tr>\n",
       "<tr>\n",
       "  <th>Df Model:</th>               <td>     6</td>        <th>                     </th>     <td> </td>   \n",
       "</tr>\n",
       "<tr>\n",
       "  <th>Covariance Type:</th>       <td>nonrobust</td>      <th>                     </th>     <td> </td>   \n",
       "</tr>\n",
       "</table>\n",
       "<table class=\"simpletable\">\n",
       "<tr>\n",
       "                 <td></td>                    <th>coef</th>     <th>std err</th>      <th>t</th>      <th>P>|t|</th> <th>[95.0% Conf. Int.]</th> \n",
       "</tr>\n",
       "<tr>\n",
       "  <th>Intercept</th>                       <td>    0.4234</td> <td>    0.089</td> <td>    4.777</td> <td> 0.000</td> <td>    0.249     0.598</td>\n",
       "</tr>\n",
       "<tr>\n",
       "  <th>spent</th>                           <td>    0.0013</td> <td>    0.001</td> <td>    2.651</td> <td> 0.008</td> <td>    0.000     0.002</td>\n",
       "</tr>\n",
       "<tr>\n",
       "  <th>Objective_EVENT_RESPONSES</th>       <td>-3.467e-16</td> <td> 1.26e-16</td> <td>   -2.759</td> <td> 0.006</td> <td>-5.94e-16 -9.94e-17</td>\n",
       "</tr>\n",
       "<tr>\n",
       "  <th>Objective_LEAD_GENERATION</th>       <td>-4.732e-16</td> <td> 5.63e-17</td> <td>   -8.410</td> <td> 0.000</td> <td>-5.84e-16 -3.62e-16</td>\n",
       "</tr>\n",
       "<tr>\n",
       "  <th>Objective_MOBILE_APP_ENGAGEMENT</th> <td>-1.424e-16</td> <td> 3.32e-17</td> <td>   -4.284</td> <td> 0.000</td> <td>-2.08e-16  -7.7e-17</td>\n",
       "</tr>\n",
       "<tr>\n",
       "  <th>Objective_MOBILE_APP_INSTALLS</th>   <td>    2.4017</td> <td>    0.338</td> <td>    7.108</td> <td> 0.000</td> <td>    1.737     3.067</td>\n",
       "</tr>\n",
       "<tr>\n",
       "  <th>Objective_PAGE_LIKES</th>            <td>    0.5199</td> <td>    0.223</td> <td>    2.326</td> <td> 0.021</td> <td>    0.080     0.960</td>\n",
       "</tr>\n",
       "<tr>\n",
       "  <th>Objective_POST_ENGAGEMENT</th>       <td>   -0.2290</td> <td>    0.115</td> <td>   -1.983</td> <td> 0.048</td> <td>   -0.456    -0.002</td>\n",
       "</tr>\n",
       "<tr>\n",
       "  <th>Objective_WEBSITE_CONVERSIONS</th>   <td>    1.6570</td> <td>    0.181</td> <td>    9.159</td> <td> 0.000</td> <td>    1.301     2.013</td>\n",
       "</tr>\n",
       "<tr>\n",
       "  <th>cpm_median</th>                      <td>    0.0210</td> <td>    0.006</td> <td>    3.498</td> <td> 0.001</td> <td>    0.009     0.033</td>\n",
       "</tr>\n",
       "</table>\n",
       "<table class=\"simpletable\">\n",
       "<tr>\n",
       "  <th>Omnibus:</th>       <td>110.205</td> <th>  Durbin-Watson:     </th> <td>   1.973</td>\n",
       "</tr>\n",
       "<tr>\n",
       "  <th>Prob(Omnibus):</th> <td> 0.000</td>  <th>  Jarque-Bera (JB):  </th> <td> 450.905</td>\n",
       "</tr>\n",
       "<tr>\n",
       "  <th>Skew:</th>          <td> 1.536</td>  <th>  Prob(JB):          </th> <td>1.22e-98</td>\n",
       "</tr>\n",
       "<tr>\n",
       "  <th>Kurtosis:</th>      <td> 8.197</td>  <th>  Cond. No.          </th> <td>5.31e+19</td>\n",
       "</tr>\n",
       "</table>"
      ],
      "text/plain": [
       "<class 'statsmodels.iolib.summary.Summary'>\n",
       "\"\"\"\n",
       "                             OLS Regression Results                            \n",
       "===============================================================================\n",
       "Dep. Variable:     cost_per_conversion   R-squared:                       0.361\n",
       "Model:                             OLS   Adj. R-squared:                  0.348\n",
       "Method:                  Least Squares   F-statistic:                     27.35\n",
       "Date:                 Fri, 22 Apr 2016   Prob (F-statistic):           8.30e-26\n",
       "Time:                         12:13:52   Log-Likelihood:                -377.42\n",
       "No. Observations:                  297   AIC:                             768.8\n",
       "Df Residuals:                      290   BIC:                             794.7\n",
       "Df Model:                            6                                         \n",
       "Covariance Type:             nonrobust                                         \n",
       "===================================================================================================\n",
       "                                      coef    std err          t      P>|t|      [95.0% Conf. Int.]\n",
       "---------------------------------------------------------------------------------------------------\n",
       "Intercept                           0.4234      0.089      4.777      0.000         0.249     0.598\n",
       "spent                               0.0013      0.001      2.651      0.008         0.000     0.002\n",
       "Objective_EVENT_RESPONSES       -3.467e-16   1.26e-16     -2.759      0.006     -5.94e-16 -9.94e-17\n",
       "Objective_LEAD_GENERATION       -4.732e-16   5.63e-17     -8.410      0.000     -5.84e-16 -3.62e-16\n",
       "Objective_MOBILE_APP_ENGAGEMENT -1.424e-16   3.32e-17     -4.284      0.000     -2.08e-16  -7.7e-17\n",
       "Objective_MOBILE_APP_INSTALLS       2.4017      0.338      7.108      0.000         1.737     3.067\n",
       "Objective_PAGE_LIKES                0.5199      0.223      2.326      0.021         0.080     0.960\n",
       "Objective_POST_ENGAGEMENT          -0.2290      0.115     -1.983      0.048        -0.456    -0.002\n",
       "Objective_WEBSITE_CONVERSIONS       1.6570      0.181      9.159      0.000         1.301     2.013\n",
       "cpm_median                          0.0210      0.006      3.498      0.001         0.009     0.033\n",
       "==============================================================================\n",
       "Omnibus:                      110.205   Durbin-Watson:                   1.973\n",
       "Prob(Omnibus):                  0.000   Jarque-Bera (JB):              450.905\n",
       "Skew:                           1.536   Prob(JB):                     1.22e-98\n",
       "Kurtosis:                       8.197   Cond. No.                     5.31e+19\n",
       "==============================================================================\n",
       "\n",
       "Warnings:\n",
       "[1] Standard Errors assume that the covariance matrix of the errors is correctly specified.\n",
       "[2] The smallest eigenvalue is 1.87e-33. This might indicate that there are\n",
       "strong multicollinearity problems or that the design matrix is singular.\n",
       "\"\"\""
      ]
     },
     "execution_count": 1023,
     "metadata": {},
     "output_type": "execute_result"
    }
   ],
   "source": [
    "model = smf.ols(formula = 'cost_per_conversion ~ spent + Objective_EVENT_RESPONSES + Objective_LEAD_GENERATION + Objective_MOBILE_APP_ENGAGEMENT + Objective_MOBILE_APP_INSTALLS + Objective_PAGE_LIKES + Objective_POST_ENGAGEMENT + Objective_WEBSITE_CONVERSIONS + cpm_median', data = training_df).fit()\n",
    "\n",
    "model.summary()"
   ]
  },
  {
   "cell_type": "markdown",
   "metadata": {},
   "source": [
    "##  Pvalues and Hypothesis testing "
   ]
  },
  {
   "cell_type": "markdown",
   "metadata": {},
   "source": [
    "- If the 95% confidence interval includes zero, the p-value for that coefficient will be greater than 0.05. If the 95% confidence interval does not include zero, the p-value will be less than 0.05. Thus, a p-value less than 0.05 is one way to decide whether there is likely a relationship between the feature and the response. (Again, using 0.05 as the cutoff is just a convention.)\n",
    "- In this case, the p-value for spent, cost_per_conversion, cost_per_click is far less than 0.05, and so we believe that there is a relationship between them and conversions."
   ]
  },
  {
   "cell_type": "markdown",
   "metadata": {},
   "source": [
    "- A \"unit\" increase in spending is associated with a 1.57 \"unit\" increase in Conversions.\n",
    "- Or more clearly: An additional $1,000 spent ads is associated with an increase in 1570 conversion."
   ]
  },
  {
   "cell_type": "markdown",
   "metadata": {},
   "source": [
    "## R^2"
   ]
  },
  {
   "cell_type": "code",
   "execution_count": 1024,
   "metadata": {
    "collapsed": false
   },
   "outputs": [
    {
     "data": {
      "text/plain": [
       "0.36136038237655899"
      ]
     },
     "execution_count": 1024,
     "metadata": {},
     "output_type": "execute_result"
    }
   ],
   "source": [
    "model.rsquared"
   ]
  },
  {
   "cell_type": "markdown",
   "metadata": {},
   "source": [
    "R-squared will always increase as you add more features to the model, even if they are unrelated to the response. Thus, selecting the model with the highest R-squared is not a reliable approach for choosing the best linear model."
   ]
  },
  {
   "cell_type": "markdown",
   "metadata": {},
   "source": [
    "## Normality assumption - Histogram"
   ]
  },
  {
   "cell_type": "code",
   "execution_count": 1025,
   "metadata": {
    "collapsed": false
   },
   "outputs": [
    {
     "data": {
      "image/png": "[encoded data removed]",
      "text/plain": [
       "<matplotlib.figure.Figure at 0x16e9784d0>"
      ]
     },
     "metadata": {},
     "output_type": "display_data"
    }
   ],
   "source": [
    "model.resid.plot(kind = 'hist', bins = 250, figsize = (8, 8))\n",
    "\n",
    "plt.show()"
   ]
  },
  {
   "cell_type": "markdown",
   "metadata": {},
   "source": [
    "## Normality Assumption - q-q Plot against a normal distribution"
   ]
  },
  {
   "cell_type": "code",
   "execution_count": 983,
   "metadata": {
    "collapsed": false
   },
   "outputs": [
    {
     "data": {
      "image/png": "[encoded data removed]",
      "text/plain": [
       "<matplotlib.figure.Figure at 0x16daaf2d0>"
      ]
     },
     "metadata": {},
     "output_type": "display_data"
    }
   ],
   "source": [
    "# Plotting qqolots to check normality assumption - Plot of the quantiles of the first dataset (vertically) against the quantiles of the second’s (horizontally)\n",
    "figure = sm.qqplot(model.resid, line = 's')"
   ]
  },
  {
   "cell_type": "markdown",
   "metadata": {},
   "source": [
    "# checking modeling assumptions"
   ]
  },
  {
   "cell_type": "code",
   "execution_count": 984,
   "metadata": {
    "collapsed": false
   },
   "outputs": [
    {
     "data": {
      "image/png": "[encoded data removed]",
      "text/plain": [
       "<matplotlib.figure.Figure at 0x16e28c5d0>"
      ]
     },
     "metadata": {},
     "output_type": "display_data"
    }
   ],
   "source": [
    "# to check modeling assumptions with respect to a single regressor\n",
    "figure = sm.graphics.plot_regress_exog(model, 'spent')"
   ]
  },
  {
   "cell_type": "markdown",
   "metadata": {},
   "source": [
    "### Effect of outliers on regression modeling - SalePrice as a function of Size"
   ]
  },
  {
   "cell_type": "code",
   "execution_count": 1027,
   "metadata": {
    "collapsed": false
   },
   "outputs": [
    {
     "data": {
      "text/plain": [
       "<seaborn.axisgrid.FacetGrid at 0x16a2fc450>"
      ]
     },
     "execution_count": 1027,
     "metadata": {},
     "output_type": "execute_result"
    },
    {
     "data": {
      "image/png": "[encoded data removed]",
      "text/plain": [
       "<matplotlib.figure.Figure at 0x171e8add0>"
      ]
     },
     "metadata": {},
     "output_type": "display_data"
    }
   ],
   "source": [
    "sns.lmplot('cost_per_conversion', 'spent', training_df, size = 8)"
   ]
  },
  {
   "cell_type": "code",
   "execution_count": 1028,
   "metadata": {
    "collapsed": false
   },
   "outputs": [
    {
     "data": {
      "text/plain": [
       "<seaborn.axisgrid.FacetGrid at 0x172075750>"
      ]
     },
     "execution_count": 1028,
     "metadata": {},
     "output_type": "execute_result"
    },
    {
     "data": {
      "image/png": "[encoded data removed]",
      "text/plain": [
       "<matplotlib.figure.Figure at 0x172075350>"
      ]
     },
     "metadata": {},
     "output_type": "display_data"
    }
   ],
   "source": [
    "sns.lmplot('spent', 'cost_per_conversion', training_df)"
   ]
  },
  {
   "cell_type": "code",
   "execution_count": 1029,
   "metadata": {
    "collapsed": false
   },
   "outputs": [
    {
     "data": {
      "text/plain": [
       "<seaborn.axisgrid.FacetGrid at 0x17245ff90>"
      ]
     },
     "execution_count": 1029,
     "metadata": {},
     "output_type": "execute_result"
    },
    {
     "data": {
      "image/png": "[encoded data removed]",
      "text/plain": [
       "<matplotlib.figure.Figure at 0x17245f3d0>"
      ]
     },
     "metadata": {},
     "output_type": "display_data"
    }
   ],
   "source": [
    "sns.lmplot('cpm_median', 'cost_per_conversion', training_df)"
   ]
  },
  {
   "cell_type": "markdown",
   "metadata": {},
   "source": [
    "## Better Model ? "
   ]
  },
  {
   "cell_type": "markdown",
   "metadata": {},
   "source": [
    "** How do I decide which features to include in a linear model? Here's one idea:**\n",
    "- Try different models, and only keep predictors in the model if they have small p-values.\n",
    "Check whether the R-squared value goes up when you add new predictors.\n",
    "What are the drawbacks to this approach?\n",
    "Linear models rely upon a lot of assumptions (such as the features being independent), and if those assumptions are violated (which they usually are), R-squared and p-values are less reliable.\n",
    "Using a p-value cutoff of 0.05 means that if you add 100 predictors to a model that are pure noise, 5 of them (on average) will still be counted as significant.\n",
    "R-squared is susceptible to overfitting, and thus there is no guarantee that a model with a high R-squared value will generalize."
   ]
  },
  {
   "cell_type": "code",
   "execution_count": 985,
   "metadata": {
    "collapsed": false
   },
   "outputs": [
    {
     "data": {
      "text/html": [
       "<table class=\"simpletable\">\n",
       "<caption>OLS Regression Results</caption>\n",
       "<tr>\n",
       "  <th>Dep. Variable:</th>    <td>cost_per_conversion</td> <th>  R-squared:         </th> <td>   0.336</td>\n",
       "</tr>\n",
       "<tr>\n",
       "  <th>Model:</th>                    <td>OLS</td>         <th>  Adj. R-squared:    </th> <td>   0.327</td>\n",
       "</tr>\n",
       "<tr>\n",
       "  <th>Method:</th>              <td>Least Squares</td>    <th>  F-statistic:       </th> <td>   36.88</td>\n",
       "</tr>\n",
       "<tr>\n",
       "  <th>Date:</th>              <td>Thu, 21 Apr 2016</td>   <th>  Prob (F-statistic):</th> <td>5.89e-25</td>\n",
       "</tr>\n",
       "<tr>\n",
       "  <th>Time:</th>                  <td>23:46:59</td>       <th>  Log-Likelihood:    </th> <td> -383.28</td>\n",
       "</tr>\n",
       "<tr>\n",
       "  <th>No. Observations:</th>       <td>   297</td>        <th>  AIC:               </th> <td>   776.6</td>\n",
       "</tr>\n",
       "<tr>\n",
       "  <th>Df Residuals:</th>           <td>   292</td>        <th>  BIC:               </th> <td>   795.0</td>\n",
       "</tr>\n",
       "<tr>\n",
       "  <th>Df Model:</th>               <td>     4</td>        <th>                     </th>     <td> </td>   \n",
       "</tr>\n",
       "<tr>\n",
       "  <th>Covariance Type:</th>       <td>nonrobust</td>      <th>                     </th>     <td> </td>   \n",
       "</tr>\n",
       "</table>\n",
       "<table class=\"simpletable\">\n",
       "<tr>\n",
       "                <td></td>                   <th>coef</th>     <th>std err</th>      <th>t</th>      <th>P>|t|</th> <th>[95.0% Conf. Int.]</th> \n",
       "</tr>\n",
       "<tr>\n",
       "  <th>Intercept</th>                     <td>    0.3698</td> <td>    0.075</td> <td>    4.899</td> <td> 0.000</td> <td>    0.221     0.518</td>\n",
       "</tr>\n",
       "<tr>\n",
       "  <th>spent</th>                         <td>    0.0015</td> <td>    0.001</td> <td>    2.864</td> <td> 0.004</td> <td>    0.000     0.002</td>\n",
       "</tr>\n",
       "<tr>\n",
       "  <th>cpm_median</th>                    <td>    0.0192</td> <td>    0.006</td> <td>    3.180</td> <td> 0.002</td> <td>    0.007     0.031</td>\n",
       "</tr>\n",
       "<tr>\n",
       "  <th>Objective_EVENT_RESPONSES</th>     <td> 1.082e-15</td> <td> 1.71e-16</td> <td>    6.321</td> <td> 0.000</td> <td> 7.45e-16  1.42e-15</td>\n",
       "</tr>\n",
       "<tr>\n",
       "  <th>Objective_MOBILE_APP_INSTALLS</th> <td>    2.4520</td> <td>    0.340</td> <td>    7.210</td> <td> 0.000</td> <td>    1.783     3.121</td>\n",
       "</tr>\n",
       "<tr>\n",
       "  <th>Objective_WEBSITE_CONVERSIONS</th> <td>    1.7076</td> <td>    0.177</td> <td>    9.624</td> <td> 0.000</td> <td>    1.358     2.057</td>\n",
       "</tr>\n",
       "</table>\n",
       "<table class=\"simpletable\">\n",
       "<tr>\n",
       "  <th>Omnibus:</th>       <td>115.772</td> <th>  Durbin-Watson:     </th> <td>   1.996</td> \n",
       "</tr>\n",
       "<tr>\n",
       "  <th>Prob(Omnibus):</th> <td> 0.000</td>  <th>  Jarque-Bera (JB):  </th> <td> 480.178</td> \n",
       "</tr>\n",
       "<tr>\n",
       "  <th>Skew:</th>          <td> 1.619</td>  <th>  Prob(JB):          </th> <td>5.38e-105</td>\n",
       "</tr>\n",
       "<tr>\n",
       "  <th>Kurtosis:</th>      <td> 8.321</td>  <th>  Cond. No.          </th> <td>6.90e+19</td> \n",
       "</tr>\n",
       "</table>"
      ],
      "text/plain": [
       "<class 'statsmodels.iolib.summary.Summary'>\n",
       "\"\"\"\n",
       "                             OLS Regression Results                            \n",
       "===============================================================================\n",
       "Dep. Variable:     cost_per_conversion   R-squared:                       0.336\n",
       "Model:                             OLS   Adj. R-squared:                  0.327\n",
       "Method:                  Least Squares   F-statistic:                     36.88\n",
       "Date:                 Thu, 21 Apr 2016   Prob (F-statistic):           5.89e-25\n",
       "Time:                         23:46:59   Log-Likelihood:                -383.28\n",
       "No. Observations:                  297   AIC:                             776.6\n",
       "Df Residuals:                      292   BIC:                             795.0\n",
       "Df Model:                            4                                         \n",
       "Covariance Type:             nonrobust                                         \n",
       "=================================================================================================\n",
       "                                    coef    std err          t      P>|t|      [95.0% Conf. Int.]\n",
       "-------------------------------------------------------------------------------------------------\n",
       "Intercept                         0.3698      0.075      4.899      0.000         0.221     0.518\n",
       "spent                             0.0015      0.001      2.864      0.004         0.000     0.002\n",
       "cpm_median                        0.0192      0.006      3.180      0.002         0.007     0.031\n",
       "Objective_EVENT_RESPONSES      1.082e-15   1.71e-16      6.321      0.000      7.45e-16  1.42e-15\n",
       "Objective_MOBILE_APP_INSTALLS     2.4520      0.340      7.210      0.000         1.783     3.121\n",
       "Objective_WEBSITE_CONVERSIONS     1.7076      0.177      9.624      0.000         1.358     2.057\n",
       "==============================================================================\n",
       "Omnibus:                      115.772   Durbin-Watson:                   1.996\n",
       "Prob(Omnibus):                  0.000   Jarque-Bera (JB):              480.178\n",
       "Skew:                           1.619   Prob(JB):                    5.38e-105\n",
       "Kurtosis:                       8.321   Cond. No.                     6.90e+19\n",
       "==============================================================================\n",
       "\n",
       "Warnings:\n",
       "[1] Standard Errors assume that the covariance matrix of the errors is correctly specified.\n",
       "[2] The smallest eigenvalue is 1.11e-33. This might indicate that there are\n",
       "strong multicollinearity problems or that the design matrix is singular.\n",
       "\"\"\""
      ]
     },
     "execution_count": 985,
     "metadata": {},
     "output_type": "execute_result"
    }
   ],
   "source": [
    "model2 = smf.ols(formula = 'cost_per_conversion ~ spent + cpm_median + Objective_EVENT_RESPONSES  + Objective_MOBILE_APP_INSTALLS + Objective_WEBSITE_CONVERSIONS', data = training_df).fit()\n",
    "\n",
    "model2.summary()"
   ]
  },
  {
   "cell_type": "code",
   "execution_count": 986,
   "metadata": {
    "collapsed": false
   },
   "outputs": [
    {
     "data": {
      "text/plain": [
       "0.33563514137854"
      ]
     },
     "execution_count": 986,
     "metadata": {},
     "output_type": "execute_result"
    }
   ],
   "source": [
    "model2.rsquared"
   ]
  },
  {
   "cell_type": "markdown",
   "metadata": {},
   "source": [
    "R-squared will always increase as you add more features to the model, even if they are unrelated to the response. Thus, selecting the model with the highest R-squared is not a reliable approach for choosing the best linear model.\n",
    "So is there a better approach to feature selection? Cross-validation. It provides a more reliable estimate of out-of-sample error, and thus is a better way to choose which of your models will best generalize to out-of-sample data. "
   ]
  },
  {
   "cell_type": "markdown",
   "metadata": {},
   "source": [
    "## Plotting the Least Squares Line"
   ]
  },
  {
   "cell_type": "code",
   "execution_count": 987,
   "metadata": {
    "collapsed": false
   },
   "outputs": [
    {
     "data": {
      "text/html": [
       "<table class=\"simpletable\">\n",
       "<caption>OLS Regression Results</caption>\n",
       "<tr>\n",
       "  <th>Dep. Variable:</th>    <td>cost_per_conversion</td> <th>  R-squared:         </th> <td>   0.011</td>\n",
       "</tr>\n",
       "<tr>\n",
       "  <th>Model:</th>                    <td>OLS</td>         <th>  Adj. R-squared:    </th> <td>   0.007</td>\n",
       "</tr>\n",
       "<tr>\n",
       "  <th>Method:</th>              <td>Least Squares</td>    <th>  F-statistic:       </th> <td>   3.211</td>\n",
       "</tr>\n",
       "<tr>\n",
       "  <th>Date:</th>              <td>Thu, 21 Apr 2016</td>   <th>  Prob (F-statistic):</th>  <td>0.0742</td> \n",
       "</tr>\n",
       "<tr>\n",
       "  <th>Time:</th>                  <td>23:47:04</td>       <th>  Log-Likelihood:    </th> <td> -442.40</td>\n",
       "</tr>\n",
       "<tr>\n",
       "  <th>No. Observations:</th>       <td>   297</td>        <th>  AIC:               </th> <td>   888.8</td>\n",
       "</tr>\n",
       "<tr>\n",
       "  <th>Df Residuals:</th>           <td>   295</td>        <th>  BIC:               </th> <td>   896.2</td>\n",
       "</tr>\n",
       "<tr>\n",
       "  <th>Df Model:</th>               <td>     1</td>        <th>                     </th>     <td> </td>   \n",
       "</tr>\n",
       "<tr>\n",
       "  <th>Covariance Type:</th>       <td>nonrobust</td>      <th>                     </th>     <td> </td>   \n",
       "</tr>\n",
       "</table>\n",
       "<table class=\"simpletable\">\n",
       "<tr>\n",
       "      <td></td>         <th>coef</th>     <th>std err</th>      <th>t</th>      <th>P>|t|</th> <th>[95.0% Conf. Int.]</th> \n",
       "</tr>\n",
       "<tr>\n",
       "  <th>Intercept</th> <td>    0.7073</td> <td>    0.082</td> <td>    8.642</td> <td> 0.000</td> <td>    0.546     0.868</td>\n",
       "</tr>\n",
       "<tr>\n",
       "  <th>spent</th>     <td>    0.0011</td> <td>    0.001</td> <td>    1.792</td> <td> 0.074</td> <td>   -0.000     0.002</td>\n",
       "</tr>\n",
       "</table>\n",
       "<table class=\"simpletable\">\n",
       "<tr>\n",
       "  <th>Omnibus:</th>       <td>166.659</td> <th>  Durbin-Watson:     </th> <td>   1.871</td> \n",
       "</tr>\n",
       "<tr>\n",
       "  <th>Prob(Omnibus):</th> <td> 0.000</td>  <th>  Jarque-Bera (JB):  </th> <td> 762.407</td> \n",
       "</tr>\n",
       "<tr>\n",
       "  <th>Skew:</th>          <td> 2.476</td>  <th>  Prob(JB):          </th> <td>2.79e-166</td>\n",
       "</tr>\n",
       "<tr>\n",
       "  <th>Kurtosis:</th>      <td> 9.090</td>  <th>  Cond. No.          </th> <td>    174.</td> \n",
       "</tr>\n",
       "</table>"
      ],
      "text/plain": [
       "<class 'statsmodels.iolib.summary.Summary'>\n",
       "\"\"\"\n",
       "                             OLS Regression Results                            \n",
       "===============================================================================\n",
       "Dep. Variable:     cost_per_conversion   R-squared:                       0.011\n",
       "Model:                             OLS   Adj. R-squared:                  0.007\n",
       "Method:                  Least Squares   F-statistic:                     3.211\n",
       "Date:                 Thu, 21 Apr 2016   Prob (F-statistic):             0.0742\n",
       "Time:                         23:47:04   Log-Likelihood:                -442.40\n",
       "No. Observations:                  297   AIC:                             888.8\n",
       "Df Residuals:                      295   BIC:                             896.2\n",
       "Df Model:                            1                                         \n",
       "Covariance Type:             nonrobust                                         \n",
       "==============================================================================\n",
       "                 coef    std err          t      P>|t|      [95.0% Conf. Int.]\n",
       "------------------------------------------------------------------------------\n",
       "Intercept      0.7073      0.082      8.642      0.000         0.546     0.868\n",
       "spent          0.0011      0.001      1.792      0.074        -0.000     0.002\n",
       "==============================================================================\n",
       "Omnibus:                      166.659   Durbin-Watson:                   1.871\n",
       "Prob(Omnibus):                  0.000   Jarque-Bera (JB):              762.407\n",
       "Skew:                           2.476   Prob(JB):                    2.79e-166\n",
       "Kurtosis:                       9.090   Cond. No.                         174.\n",
       "==============================================================================\n",
       "\n",
       "Warnings:\n",
       "[1] Standard Errors assume that the covariance matrix of the errors is correctly specified.\n",
       "\"\"\""
      ]
     },
     "execution_count": 987,
     "metadata": {},
     "output_type": "execute_result"
    }
   ],
   "source": [
    "model3 = smf.ols(formula = 'cost_per_conversion ~ spent', data = training_df).fit()\n",
    "\n",
    "model3.summary()"
   ]
  },
  {
   "cell_type": "code",
   "execution_count": 988,
   "metadata": {
    "collapsed": false
   },
   "outputs": [
    {
     "data": {
      "text/html": [
       "<div>\n",
       "<table border=\"1\" class=\"dataframe\">\n",
       "  <thead>\n",
       "    <tr style=\"text-align: right;\">\n",
       "      <th></th>\n",
       "      <th>spent</th>\n",
       "    </tr>\n",
       "  </thead>\n",
       "  <tbody>\n",
       "    <tr>\n",
       "      <th>0</th>\n",
       "      <td>0.03</td>\n",
       "    </tr>\n",
       "    <tr>\n",
       "      <th>1</th>\n",
       "      <td>624.86</td>\n",
       "    </tr>\n",
       "  </tbody>\n",
       "</table>\n",
       "</div>"
      ],
      "text/plain": [
       "    spent\n",
       "0    0.03\n",
       "1  624.86"
      ]
     },
     "execution_count": 988,
     "metadata": {},
     "output_type": "execute_result"
    }
   ],
   "source": [
    "# create a DataFrame with the minimum and maximum values of TV\n",
    "X_new = pd.DataFrame({'spent': [data.spent.min(), data.spent.max()]})\n",
    "X_new.head()"
   ]
  },
  {
   "cell_type": "code",
   "execution_count": 989,
   "metadata": {
    "collapsed": false
   },
   "outputs": [
    {
     "data": {
      "text/plain": [
       "array([ 0.70735851,  1.39622046])"
      ]
     },
     "execution_count": 989,
     "metadata": {},
     "output_type": "execute_result"
    }
   ],
   "source": [
    "# make predictions for those x values and store them\n",
    "preds = model3.predict(X_new)\n",
    "preds"
   ]
  },
  {
   "cell_type": "code",
   "execution_count": 990,
   "metadata": {
    "collapsed": false
   },
   "outputs": [
    {
     "data": {
      "text/plain": [
       "[<matplotlib.lines.Line2D at 0x16ee98210>]"
      ]
     },
     "execution_count": 990,
     "metadata": {},
     "output_type": "execute_result"
    },
    {
     "data": {
      "image/png": "[encoded data removed]",
      "text/plain": [
       "<matplotlib.figure.Figure at 0x16e2ee690>"
      ]
     },
     "metadata": {},
     "output_type": "display_data"
    }
   ],
   "source": [
    "# first, plot the observed data\n",
    "data.plot(kind='scatter', x='spent', y='cost_per_conversion')\n",
    "\n",
    "# then, plot the least squares line\n",
    "plt.plot(X_new, preds, c='red', linewidth=2)"
   ]
  },
  {
   "cell_type": "code",
   "execution_count": 991,
   "metadata": {
    "collapsed": false
   },
   "outputs": [],
   "source": [
    "X = data[data.columns.values]\n",
    "X.drop('cost_per_conversion', axis = 1, inplace = True)\n",
    "X.drop('cost_per_click', axis = 1, inplace = True)\n",
    "X.drop('conversions', axis = 1, inplace = True)\n",
    "X.drop('clicks', axis = 1, inplace = True)\n",
    "X.drop('impressions', axis = 1, inplace = True)\n",
    "\n",
    "y = data.cost_per_conversion"
   ]
  },
  {
   "cell_type": "code",
   "execution_count": 992,
   "metadata": {
    "collapsed": false
   },
   "outputs": [
    {
     "data": {
      "text/plain": [
       "495"
      ]
     },
     "execution_count": 992,
     "metadata": {},
     "output_type": "execute_result"
    }
   ],
   "source": [
    "len(X)"
   ]
  },
  {
   "cell_type": "code",
   "execution_count": 993,
   "metadata": {
    "collapsed": false
   },
   "outputs": [
    {
     "data": {
      "text/html": [
       "<div>\n",
       "<table border=\"1\" class=\"dataframe\">\n",
       "  <thead>\n",
       "    <tr style=\"text-align: right;\">\n",
       "      <th></th>\n",
       "      <th>campaign_id</th>\n",
       "      <th>reach</th>\n",
       "      <th>cpa_min</th>\n",
       "      <th>cpa_max</th>\n",
       "      <th>cpa_median</th>\n",
       "      <th>cpc_min</th>\n",
       "      <th>cpc_max</th>\n",
       "      <th>cpc_median</th>\n",
       "      <th>cpm_min</th>\n",
       "      <th>cpm_max</th>\n",
       "      <th>...</th>\n",
       "      <th>maxBid</th>\n",
       "      <th>Bid_Type_CONVERSION_OPTIMIZE</th>\n",
       "      <th>Bid_Type_OPTIMIZE</th>\n",
       "      <th>Bid_Type_ROTATE</th>\n",
       "      <th>Bid_Type_ROTATE_INDEFINITELY</th>\n",
       "      <th>Bid_Type_automated</th>\n",
       "      <th>Bid_Type_cpc</th>\n",
       "      <th>Bid_Type_ocpm</th>\n",
       "      <th>maxBid_cpc</th>\n",
       "      <th>maxBid_ocpm</th>\n",
       "    </tr>\n",
       "  </thead>\n",
       "  <tbody>\n",
       "    <tr>\n",
       "      <th>1</th>\n",
       "      <td>6023634601941</td>\n",
       "      <td>198000</td>\n",
       "      <td>0.00</td>\n",
       "      <td>0.00</td>\n",
       "      <td>0.00</td>\n",
       "      <td>0.00</td>\n",
       "      <td>0.00</td>\n",
       "      <td>0.00</td>\n",
       "      <td>0.00</td>\n",
       "      <td>0.00</td>\n",
       "      <td>...</td>\n",
       "      <td>0</td>\n",
       "      <td>0</td>\n",
       "      <td>0</td>\n",
       "      <td>0</td>\n",
       "      <td>0</td>\n",
       "      <td>1</td>\n",
       "      <td>0</td>\n",
       "      <td>0</td>\n",
       "      <td>0</td>\n",
       "      <td>0</td>\n",
       "    </tr>\n",
       "    <tr>\n",
       "      <th>2</th>\n",
       "      <td>6024469111228</td>\n",
       "      <td>74000</td>\n",
       "      <td>1.12</td>\n",
       "      <td>3.11</td>\n",
       "      <td>2.14</td>\n",
       "      <td>0.15</td>\n",
       "      <td>0.37</td>\n",
       "      <td>0.27</td>\n",
       "      <td>5.16</td>\n",
       "      <td>14.43</td>\n",
       "      <td>...</td>\n",
       "      <td>0</td>\n",
       "      <td>0</td>\n",
       "      <td>0</td>\n",
       "      <td>0</td>\n",
       "      <td>0</td>\n",
       "      <td>1</td>\n",
       "      <td>0</td>\n",
       "      <td>0</td>\n",
       "      <td>0</td>\n",
       "      <td>0</td>\n",
       "    </tr>\n",
       "    <tr>\n",
       "      <th>3</th>\n",
       "      <td>6025116981459</td>\n",
       "      <td>1300000</td>\n",
       "      <td>1.15</td>\n",
       "      <td>3.93</td>\n",
       "      <td>2.50</td>\n",
       "      <td>1.16</td>\n",
       "      <td>3.38</td>\n",
       "      <td>2.23</td>\n",
       "      <td>5.13</td>\n",
       "      <td>22.03</td>\n",
       "      <td>...</td>\n",
       "      <td>0</td>\n",
       "      <td>0</td>\n",
       "      <td>0</td>\n",
       "      <td>0</td>\n",
       "      <td>0</td>\n",
       "      <td>1</td>\n",
       "      <td>0</td>\n",
       "      <td>0</td>\n",
       "      <td>0</td>\n",
       "      <td>0</td>\n",
       "    </tr>\n",
       "    <tr>\n",
       "      <th>4</th>\n",
       "      <td>6025234083437</td>\n",
       "      <td>93000</td>\n",
       "      <td>0.18</td>\n",
       "      <td>0.37</td>\n",
       "      <td>0.29</td>\n",
       "      <td>0.13</td>\n",
       "      <td>0.26</td>\n",
       "      <td>0.20</td>\n",
       "      <td>1.16</td>\n",
       "      <td>3.91</td>\n",
       "      <td>...</td>\n",
       "      <td>0</td>\n",
       "      <td>0</td>\n",
       "      <td>0</td>\n",
       "      <td>0</td>\n",
       "      <td>0</td>\n",
       "      <td>1</td>\n",
       "      <td>0</td>\n",
       "      <td>0</td>\n",
       "      <td>0</td>\n",
       "      <td>0</td>\n",
       "    </tr>\n",
       "    <tr>\n",
       "      <th>5</th>\n",
       "      <td>6025631750902</td>\n",
       "      <td>3050000</td>\n",
       "      <td>0.68</td>\n",
       "      <td>1.44</td>\n",
       "      <td>1.10</td>\n",
       "      <td>0.37</td>\n",
       "      <td>0.83</td>\n",
       "      <td>0.63</td>\n",
       "      <td>1.11</td>\n",
       "      <td>8.23</td>\n",
       "      <td>...</td>\n",
       "      <td>0</td>\n",
       "      <td>0</td>\n",
       "      <td>0</td>\n",
       "      <td>0</td>\n",
       "      <td>0</td>\n",
       "      <td>1</td>\n",
       "      <td>0</td>\n",
       "      <td>0</td>\n",
       "      <td>0</td>\n",
       "      <td>0</td>\n",
       "    </tr>\n",
       "  </tbody>\n",
       "</table>\n",
       "<p>5 rows × 37 columns</p>\n",
       "</div>"
      ],
      "text/plain": [
       "     campaign_id    reach  cpa_min  cpa_max  cpa_median  cpc_min  cpc_max  \\\n",
       "1  6023634601941   198000     0.00     0.00        0.00     0.00     0.00   \n",
       "2  6024469111228    74000     1.12     3.11        2.14     0.15     0.37   \n",
       "3  6025116981459  1300000     1.15     3.93        2.50     1.16     3.38   \n",
       "4  6025234083437    93000     0.18     0.37        0.29     0.13     0.26   \n",
       "5  6025631750902  3050000     0.68     1.44        1.10     0.37     0.83   \n",
       "\n",
       "   cpc_median  cpm_min  cpm_max     ...       maxBid  \\\n",
       "1        0.00     0.00     0.00     ...            0   \n",
       "2        0.27     5.16    14.43     ...            0   \n",
       "3        2.23     5.13    22.03     ...            0   \n",
       "4        0.20     1.16     3.91     ...            0   \n",
       "5        0.63     1.11     8.23     ...            0   \n",
       "\n",
       "   Bid_Type_CONVERSION_OPTIMIZE Bid_Type_OPTIMIZE  Bid_Type_ROTATE  \\\n",
       "1                             0                 0                0   \n",
       "2                             0                 0                0   \n",
       "3                             0                 0                0   \n",
       "4                             0                 0                0   \n",
       "5                             0                 0                0   \n",
       "\n",
       "   Bid_Type_ROTATE_INDEFINITELY  Bid_Type_automated  Bid_Type_cpc  \\\n",
       "1                             0                   1             0   \n",
       "2                             0                   1             0   \n",
       "3                             0                   1             0   \n",
       "4                             0                   1             0   \n",
       "5                             0                   1             0   \n",
       "\n",
       "   Bid_Type_ocpm  maxBid_cpc  maxBid_ocpm  \n",
       "1              0           0            0  \n",
       "2              0           0            0  \n",
       "3              0           0            0  \n",
       "4              0           0            0  \n",
       "5              0           0            0  \n",
       "\n",
       "[5 rows x 37 columns]"
      ]
     },
     "execution_count": 993,
     "metadata": {},
     "output_type": "execute_result"
    }
   ],
   "source": [
    "X.head()"
   ]
  },
  {
   "cell_type": "code",
   "execution_count": 994,
   "metadata": {
    "collapsed": false
   },
   "outputs": [],
   "source": [
    "X.drop('bidStrategy', axis = 1, inplace = True)\n",
    "X.drop('objective', axis = 1, inplace = True)\n",
    "X.drop('campaign_group_id', axis = 1, inplace = True)\n",
    "X.drop('reach', axis = 1, inplace = True)"
   ]
  },
  {
   "cell_type": "code",
   "execution_count": 995,
   "metadata": {
    "collapsed": true
   },
   "outputs": [],
   "source": [
    "#X.cost_per_click = X.cost_per_click.round(decimals=2)\n",
    "#X.cost_per_conversion = X.cost_per_conversion.round(decimals=2)"
   ]
  },
  {
   "cell_type": "code",
   "execution_count": 996,
   "metadata": {
    "collapsed": false
   },
   "outputs": [
    {
     "data": {
      "text/plain": [
       "Index([u'campaign_id', u'cpa_min', u'cpa_max', u'cpa_median', u'cpc_min',\n",
       "       u'cpc_max', u'cpc_median', u'cpm_min', u'cpm_max', u'cpm_median',\n",
       "       u'spent', u'date', u'Objective_EVENT_RESPONSES',\n",
       "       u'Objective_LEAD_GENERATION', u'Objective_LOCAL_AWARENESS',\n",
       "       u'Objective_MOBILE_APP_ENGAGEMENT', u'Objective_MOBILE_APP_INSTALLS',\n",
       "       u'Objective_NONE', u'Objective_PAGE_LIKES',\n",
       "       u'Objective_POST_ENGAGEMENT', u'Objective_VIDEO_VIEWS',\n",
       "       u'Objective_WEBSITE_CLICKS', u'Objective_WEBSITE_CONVERSIONS',\n",
       "       u'maxBid', u'Bid_Type_CONVERSION_OPTIMIZE', u'Bid_Type_OPTIMIZE',\n",
       "       u'Bid_Type_ROTATE', u'Bid_Type_ROTATE_INDEFINITELY',\n",
       "       u'Bid_Type_automated', u'Bid_Type_cpc', u'Bid_Type_ocpm', u'maxBid_cpc',\n",
       "       u'maxBid_ocpm'],\n",
       "      dtype='object')"
      ]
     },
     "execution_count": 996,
     "metadata": {},
     "output_type": "execute_result"
    }
   ],
   "source": [
    "X.columns"
   ]
  },
  {
   "cell_type": "markdown",
   "metadata": {},
   "source": [
    "Now we have to split the datasets into training and validation. The training data will be used to generate the trees that will constitute the final averaged model."
   ]
  },
  {
   "cell_type": "code",
   "execution_count": 1019,
   "metadata": {
    "collapsed": true
   },
   "outputs": [],
   "source": [
    "train_X, test_X, train_y, test_y = cross_validation.train_test_split(X, y, test_size = 0.4)"
   ]
  },
  {
   "cell_type": "markdown",
   "metadata": {},
   "source": [
    "### Linear Regression - scikit-learn"
   ]
  },
  {
   "cell_type": "markdown",
   "metadata": {},
   "source": [
    "We use cross validation to compare between models and choose the model with the best cross validation value. Once we discover that we need to create a final model and then predict using it"
   ]
  },
  {
   "cell_type": "code",
   "execution_count": 1020,
   "metadata": {
    "collapsed": false
   },
   "outputs": [
    {
     "data": {
      "text/plain": [
       "0.099082636581307185"
      ]
     },
     "execution_count": 1020,
     "metadata": {},
     "output_type": "execute_result"
    }
   ],
   "source": [
    "train_df_X = training_df[ ['spent', 'cpa_median','cpc_median','cpm_median',\n",
    "       'date', 'Objective_EVENT_RESPONSES',\n",
    "       'Objective_LEAD_GENERATION', 'Objective_LOCAL_AWARENESS',\n",
    "       'Objective_MOBILE_APP_ENGAGEMENT', 'Objective_MOBILE_APP_INSTALLS',\n",
    "       'Objective_NONE', 'Objective_PAGE_LIKES',\n",
    "       'Objective_POST_ENGAGEMENT', 'Objective_VIDEO_VIEWS',\n",
    "       'Objective_WEBSITE_CONVERSIONS',\n",
    "       'Bid_Type_CONVERSION_OPTIMIZE', 'Bid_Type_OPTIMIZE',\n",
    "       'Bid_Type_ROTATE', 'Bid_Type_ROTATE_INDEFINITELY',\n",
    "       'Bid_Type_automated', 'Bid_Type_cpc', 'maxBid_cpc'] ]\n",
    "train_df_y = training_df['cost_per_conversion']\n",
    "\n",
    "model = linear_model.LinearRegression()\n",
    "cross_validation.cross_val_score(model, train_df_X, train_df_y, cv = 10).mean()"
   ]
  },
  {
   "cell_type": "code",
   "execution_count": 999,
   "metadata": {
    "collapsed": false
   },
   "outputs": [
    {
     "data": {
      "text/plain": [
       "0.05505590329522915"
      ]
     },
     "execution_count": 999,
     "metadata": {},
     "output_type": "execute_result"
    }
   ],
   "source": [
    "train_df_X = training_df[ ['spent', 'Objective_WEBSITE_CONVERSIONS', 'Objective_WEBSITE_CLICKS'] ]\n",
    "train_df_y = training_df['cost_per_conversion']\n",
    "\n",
    "model = linear_model.LinearRegression()\n",
    "cross_validation.cross_val_score(model, train_df_X, train_df_y, cv = 10).mean()"
   ]
  },
  {
   "cell_type": "code",
   "execution_count": 1000,
   "metadata": {
    "collapsed": false
   },
   "outputs": [
    {
     "data": {
      "text/plain": [
       "-0.055255281758840237"
      ]
     },
     "execution_count": 1000,
     "metadata": {},
     "output_type": "execute_result"
    }
   ],
   "source": [
    "train_df_X = training_df[ ['spent'] ]\n",
    "train_df_y = training_df['cost_per_conversion']\n",
    "\n",
    "model = linear_model.LinearRegression()\n",
    "cross_validation.cross_val_score(model, train_df_X, train_df_y, cv = 10).mean()"
   ]
  },
  {
   "cell_type": "code",
   "execution_count": 1001,
   "metadata": {
    "collapsed": false
   },
   "outputs": [
    {
     "data": {
      "text/plain": [
       "0.14710736752065892"
      ]
     },
     "execution_count": 1001,
     "metadata": {},
     "output_type": "execute_result"
    }
   ],
   "source": [
    "train_df_X = training_df[ ['spent','Objective_PAGE_LIKES','Objective_MOBILE_APP_INSTALLS','Objective_WEBSITE_CONVERSIONS']]\n",
    "train_df_y = training_df['cost_per_conversion']\n",
    "\n",
    "model = linear_model.LinearRegression()\n",
    "cross_validation.cross_val_score(model, train_df_X, train_df_y, cv = 10).mean()"
   ]
  },
  {
   "cell_type": "code",
   "execution_count": 1002,
   "metadata": {
    "collapsed": false
   },
   "outputs": [
    {
     "data": {
      "text/plain": [
       "0.17196953343915306"
      ]
     },
     "execution_count": 1002,
     "metadata": {},
     "output_type": "execute_result"
    }
   ],
   "source": [
    "train_df_X = training_df[ ['spent','cpm_median', 'Objective_EVENT_RESPONSES','Objective_LEAD_GENERATION', 'Objective_MOBILE_APP_ENGAGEMENT', 'Objective_MOBILE_APP_INSTALLS', 'Objective_WEBSITE_CONVERSIONS']]\n",
    "train_df_y = training_df['cost_per_conversion']\n",
    "\n",
    "model = linear_model.LinearRegression()\n",
    "cross_validation.cross_val_score(model, train_df_X, train_df_y, cv = 10).mean()"
   ]
  },
  {
   "cell_type": "code",
   "execution_count": 1003,
   "metadata": {
    "collapsed": false
   },
   "outputs": [
    {
     "data": {
      "text/plain": [
       "0.17142537550561193"
      ]
     },
     "execution_count": 1003,
     "metadata": {},
     "output_type": "execute_result"
    }
   ],
   "source": [
    "train_df_X = training_df[ ['spent','cpm_median','Objective_EVENT_RESPONSES','Objective_LEAD_GENERATION', 'Objective_MOBILE_APP_ENGAGEMENT', 'Objective_MOBILE_APP_INSTALLS','Objective_WEBSITE_CLICKS', 'Objective_WEBSITE_CONVERSIONS']]\n",
    "train_df_y = training_df['cost_per_conversion']\n",
    "\n",
    "model = linear_model.LinearRegression()\n",
    "cross_validation.cross_val_score(model, train_df_X, train_df_y, cv = 10).mean()"
   ]
  },
  {
   "cell_type": "markdown",
   "metadata": {},
   "source": [
    "# Regression Decision Trees"
   ]
  },
  {
   "cell_type": "code",
   "execution_count": 1004,
   "metadata": {
    "collapsed": false
   },
   "outputs": [],
   "source": [
    "#X.cost_per_click = X.cost_per_click.round(decimals=2)\n",
    "#X.cost_per_conversion = X.cost_per_conversion.round(decimals=2)"
   ]
  },
  {
   "cell_type": "code",
   "execution_count": 1005,
   "metadata": {
    "collapsed": true
   },
   "outputs": [],
   "source": [
    "train_X, test_X, train_y, test_y = cross_validation.train_test_split(X, y, test_size = 0.4)"
   ]
  },
  {
   "cell_type": "code",
   "execution_count": 1006,
   "metadata": {
    "collapsed": false
   },
   "outputs": [
    {
     "data": {
      "text/plain": [
       "DecisionTreeRegressor(criterion='mse', max_depth=None, max_features=None,\n",
       "           max_leaf_nodes=None, min_samples_leaf=1, min_samples_split=2,\n",
       "           min_weight_fraction_leaf=0.0, presort=False, random_state=None,\n",
       "           splitter='best')"
      ]
     },
     "execution_count": 1006,
     "metadata": {},
     "output_type": "execute_result"
    }
   ],
   "source": [
    "model = tree.DecisionTreeRegressor()\n",
    "model.fit(train_X, train_y)"
   ]
  },
  {
   "cell_type": "markdown",
   "metadata": {},
   "source": [
    "### Calculating MSE (Mean squared error regression loss)"
   ]
  },
  {
   "cell_type": "code",
   "execution_count": 1007,
   "metadata": {
    "collapsed": false
   },
   "outputs": [
    {
     "name": "stdout",
     "output_type": "stream",
     "text": [
      "3.26260236386e-05\n",
      "1.06959346685\n"
     ]
    }
   ],
   "source": [
    "train_y_hat = model.predict(train_X)\n",
    "print np.sqrt(metrics.mean_squared_error(train_y, train_y_hat))\n",
    "\n",
    "test_y_hat = model.predict(test_X)\n",
    "print np.sqrt(metrics.mean_squared_error(test_y, test_y_hat))"
   ]
  },
  {
   "cell_type": "code",
   "execution_count": 1008,
   "metadata": {
    "collapsed": false
   },
   "outputs": [
    {
     "data": {
      "text/plain": [
       "DecisionTreeRegressor(criterion='mse', max_depth=4, max_features=None,\n",
       "           max_leaf_nodes=None, min_samples_leaf=1, min_samples_split=2,\n",
       "           min_weight_fraction_leaf=0.0, presort=False, random_state=None,\n",
       "           splitter='best')"
      ]
     },
     "execution_count": 1008,
     "metadata": {},
     "output_type": "execute_result"
    }
   ],
   "source": [
    "model = tree.DecisionTreeRegressor(max_depth = 4)\n",
    "model.fit(train_X, train_y)"
   ]
  },
  {
   "cell_type": "markdown",
   "metadata": {},
   "source": [
    "### Calculate Features Importance"
   ]
  },
  {
   "cell_type": "code",
   "execution_count": 1009,
   "metadata": {
    "collapsed": false
   },
   "outputs": [
    {
     "data": {
      "text/plain": [
       "[(0.3464984126088082, 'Objective_MOBILE_APP_INSTALLS'),\n",
       " (0.21648661496702232, 'Objective_WEBSITE_CONVERSIONS'),\n",
       " (0.14450823733512688, 'cpc_max'),\n",
       " (0.11076573929317068, 'spent'),\n",
       " (0.069218809955551547, 'campaign_id'),\n",
       " (0.056597005179035653, 'Objective_PAGE_LIKES'),\n",
       " (0.031523213252586162, 'cpa_min'),\n",
       " (0.023316771090567887, 'date'),\n",
       " (0.00082743779843137753, 'cpm_min'),\n",
       " (0.0002577585196992478, 'cpc_min'),\n",
       " (0.0, 'maxBid_ocpm'),\n",
       " (0.0, 'maxBid_cpc'),\n",
       " (0.0, 'maxBid'),\n",
       " (0.0, 'cpm_median'),\n",
       " (0.0, 'cpm_max'),\n",
       " (0.0, 'cpc_median'),\n",
       " (0.0, 'cpa_median'),\n",
       " (0.0, 'cpa_max'),\n",
       " (0.0, 'Objective_WEBSITE_CLICKS'),\n",
       " (0.0, 'Objective_VIDEO_VIEWS'),\n",
       " (0.0, 'Objective_POST_ENGAGEMENT'),\n",
       " (0.0, 'Objective_NONE'),\n",
       " (0.0, 'Objective_MOBILE_APP_ENGAGEMENT'),\n",
       " (0.0, 'Objective_LOCAL_AWARENESS'),\n",
       " (0.0, 'Objective_LEAD_GENERATION'),\n",
       " (0.0, 'Objective_EVENT_RESPONSES'),\n",
       " (0.0, 'Bid_Type_ocpm'),\n",
       " (0.0, 'Bid_Type_cpc'),\n",
       " (0.0, 'Bid_Type_automated'),\n",
       " (0.0, 'Bid_Type_ROTATE_INDEFINITELY'),\n",
       " (0.0, 'Bid_Type_ROTATE'),\n",
       " (0.0, 'Bid_Type_OPTIMIZE'),\n",
       " (0.0, 'Bid_Type_CONVERSION_OPTIMIZE')]"
      ]
     },
     "execution_count": 1009,
     "metadata": {},
     "output_type": "execute_result"
    }
   ],
   "source": [
    "sorted(zip(model.feature_importances_, X.columns.values), reverse = True)"
   ]
  },
  {
   "cell_type": "markdown",
   "metadata": {},
   "source": [
    "## Random Forest Classifier"
   ]
  },
  {
   "cell_type": "code",
   "execution_count": 1010,
   "metadata": {
    "collapsed": false
   },
   "outputs": [
    {
     "data": {
      "text/plain": [
       "RandomForestRegressor(bootstrap=True, criterion='mse', max_depth=None,\n",
       "           max_features=4, max_leaf_nodes=None, min_samples_leaf=5,\n",
       "           min_samples_split=2, min_weight_fraction_leaf=0.0,\n",
       "           n_estimators=1000, n_jobs=1, oob_score=True, random_state=None,\n",
       "           verbose=0, warm_start=False)"
      ]
     },
     "execution_count": 1010,
     "metadata": {},
     "output_type": "execute_result"
    }
   ],
   "source": [
    "model = ensemble.RandomForestRegressor(n_estimators = 1000, max_features = 4, min_samples_leaf = 5, oob_score = True)\n",
    "model.fit(train_X, train_y)"
   ]
  },
  {
   "cell_type": "code",
   "execution_count": 1011,
   "metadata": {
    "collapsed": false
   },
   "outputs": [
    {
     "data": {
      "text/plain": [
       "0.27342168232829955"
      ]
     },
     "execution_count": 1011,
     "metadata": {},
     "output_type": "execute_result"
    }
   ],
   "source": [
    "model.oob_score_"
   ]
  },
  {
   "cell_type": "markdown",
   "metadata": {},
   "source": [
    "The out-of-bag (OOB) error is the average error for each z_i calculated using predictions from the trees that do not contain z_i in their respective bootstrap sample."
   ]
  },
  {
   "cell_type": "code",
   "execution_count": 1012,
   "metadata": {
    "collapsed": false
   },
   "outputs": [
    {
     "data": {
      "text/plain": [
       "0.19785216217767729"
      ]
     },
     "execution_count": 1012,
     "metadata": {},
     "output_type": "execute_result"
    }
   ],
   "source": [
    "cross_validation.cross_val_score(model, train_X, train_y, cv = 10).mean()"
   ]
  },
  {
   "cell_type": "markdown",
   "metadata": {
    "collapsed": true
   },
   "source": [
    "# Bosted Trees"
   ]
  },
  {
   "cell_type": "markdown",
   "metadata": {},
   "source": [
    "We then fit a Gradient Tree Boosting model to the data using the scikit-learn package. We will use 500 trees with each tree having a depth of 6 levels. we will also use the Huber loss function."
   ]
  },
  {
   "cell_type": "code",
   "execution_count": 1013,
   "metadata": {
    "collapsed": false
   },
   "outputs": [],
   "source": [
    "from sklearn.metrics import mean_squared_error,r2_score\n",
    "from sklearn.ensemble import GradientBoostingRegressor\n",
    "\n",
    "params = {'n_estimators': 500, 'max_depth': 6, 'loss': 'huber','alpha':0.95}\n",
    "\n",
    "clf = GradientBoostingRegressor(**params).fit(train_X, train_y)"
   ]
  },
  {
   "cell_type": "markdown",
   "metadata": {},
   "source": [
    "the Mean Squared Error wasn’t much informative and used instead the R2 coefficient of determination. This measure is a number indicating how well a variable is able to predict the other. Values close to 0 means poor prediction and values close to 1 means perfect prediction. within our model we got 0.89 so it’s a good out of the box technique."
   ]
  },
  {
   "cell_type": "code",
   "execution_count": 1014,
   "metadata": {
    "collapsed": false
   },
   "outputs": [
    {
     "name": "stdout",
     "output_type": "stream",
     "text": [
      "MSE: 0.8087\n",
      "R2: 0.3727\n"
     ]
    }
   ],
   "source": [
    "mse = mean_squared_error(test_y, clf.predict(test_X))\n",
    "r2 = r2_score(test_y, clf.predict(test_X))\n",
    " \n",
    "print(\"MSE: %.4f\" % mse)\n",
    "print(\"R2: %.4f\" % r2)"
   ]
  },
  {
   "cell_type": "markdown",
   "metadata": {},
   "source": [
    "Let’s plot how does the training and testing error behave"
   ]
  },
  {
   "cell_type": "code",
   "execution_count": 1015,
   "metadata": {
    "collapsed": false
   },
   "outputs": [
    {
     "name": "stderr",
     "output_type": "stream",
     "text": [
      "/Users/Edie/anaconda/lib/python2.7/site-packages/sklearn/utils/__init__.py:93: DeprecationWarning: Function staged_decision_function is deprecated;  and will be removed in 0.19\n",
      "  warnings.warn(msg, category=DeprecationWarning)\n"
     ]
    },
    {
     "data": {
      "text/plain": [
       "<matplotlib.text.Text at 0x16f064490>"
      ]
     },
     "execution_count": 1015,
     "metadata": {},
     "output_type": "execute_result"
    },
    {
     "data": {
      "image/png": "[encoded data removed]",
      "text/plain": [
       "<matplotlib.figure.Figure at 0x16e77aa10>"
      ]
     },
     "metadata": {},
     "output_type": "display_data"
    }
   ],
   "source": [
    "import matplotlib.pyplot as plt\n",
    " \n",
    "# compute test set deviance\n",
    "test_score = np.zeros((params['n_estimators'],), dtype=np.float64)\n",
    " \n",
    "for i, y_pred in enumerate(clf.staged_decision_function(test_X)):\n",
    "    test_score[i] = clf.loss_(test_y, y_pred)\n",
    " \n",
    "plt.figure(figsize=(12, 6))\n",
    "plt.subplot(1, 1, 1)\n",
    "plt.title('Deviance')\n",
    "plt.plot(np.arange(params['n_estimators']) + 1, clf.train_score_, 'b-',\n",
    "                label='Training Set Deviance')\n",
    "plt.plot(np.arange(params['n_estimators']) + 1, test_score, 'r-',\n",
    "                label='Test Set Deviance')\n",
    "plt.legend(loc='upper right')\n",
    "plt.xlabel('Boosting Iterations')\n",
    "plt.ylabel('Deviance')"
   ]
  },
  {
   "cell_type": "markdown",
   "metadata": {},
   "source": [
    "As you can see in the previous graph, although the train error keeps going down as we add more trees to our model, the test error remains more or less constant and doesn’t incur in overfitting. This is mainly due to the shrinkage parameter and one of the good features of this algorithm."
   ]
  },
  {
   "cell_type": "markdown",
   "metadata": {},
   "source": [
    "Although base trees are easily interpretable when you are adding several of those trees interpretation is more difficult. You usually rely on some measures of the predictive power of each feature. Let’s plot feature importance in predicting the House Value."
   ]
  },
  {
   "cell_type": "code",
   "execution_count": 1016,
   "metadata": {
    "collapsed": false
   },
   "outputs": [
    {
     "data": {
      "image/png": "[encoded data removed]",
      "text/plain": [
       "<matplotlib.figure.Figure at 0x16fea04d0>"
      ]
     },
     "metadata": {},
     "output_type": "display_data"
    }
   ],
   "source": [
    "feature_importance = clf.feature_importances_\n",
    "# make importances relative to max importance\n",
    "feature_importance = 100.0 * (feature_importance / feature_importance.max())\n",
    "sorted_idx = np.argsort(feature_importance)\n",
    "pos = np.arange(sorted_idx.shape[0]) + .5\n",
    "plt.figure(figsize=(12, 6))\n",
    "plt.subplot(1, 1, 1)\n",
    "plt.barh(pos, feature_importance[sorted_idx], align='center')\n",
    "plt.yticks(pos, X.columns[sorted_idx])\n",
    "plt.xlabel('Relative Importance')\n",
    "plt.title('Variable Importance')\n",
    "plt.show()"
   ]
  },
  {
   "cell_type": "code",
   "execution_count": 1017,
   "metadata": {
    "collapsed": false
   },
   "outputs": [
    {
     "data": {
      "text/plain": [
       "Index([u'campaign_id', u'cpa_min', u'cpa_max', u'cpa_median', u'cpc_min',\n",
       "       u'cpc_max', u'cpc_median', u'cpm_min', u'cpm_max', u'cpm_median',\n",
       "       u'spent', u'date', u'Objective_EVENT_RESPONSES',\n",
       "       u'Objective_LEAD_GENERATION', u'Objective_LOCAL_AWARENESS',\n",
       "       u'Objective_MOBILE_APP_ENGAGEMENT', u'Objective_MOBILE_APP_INSTALLS',\n",
       "       u'Objective_NONE', u'Objective_PAGE_LIKES',\n",
       "       u'Objective_POST_ENGAGEMENT', u'Objective_VIDEO_VIEWS',\n",
       "       u'Objective_WEBSITE_CLICKS', u'Objective_WEBSITE_CONVERSIONS',\n",
       "       u'maxBid', u'Bid_Type_CONVERSION_OPTIMIZE', u'Bid_Type_OPTIMIZE',\n",
       "       u'Bid_Type_ROTATE', u'Bid_Type_ROTATE_INDEFINITELY',\n",
       "       u'Bid_Type_automated', u'Bid_Type_cpc', u'Bid_Type_ocpm', u'maxBid_cpc',\n",
       "       u'maxBid_ocpm'],\n",
       "      dtype='object')"
      ]
     },
     "execution_count": 1017,
     "metadata": {},
     "output_type": "execute_result"
    }
   ],
   "source": [
    "train_X.columns"
   ]
  },
  {
   "cell_type": "markdown",
   "metadata": {},
   "source": [
    "Once variable importance has been identified we could try to investigate how those variables interact between them. For instance, we can plot the dependence of the target variable with another variable has been averaged over the values of the other variables not being taken into consideration. Some variables present a clear monotonic dependence with the target value, while others seem not very related to the target variable even when they ranked high in the previous plot. This could be signaling an interaction between variables that could be further studied."
   ]
  },
  {
   "cell_type": "code",
   "execution_count": 1018,
   "metadata": {
    "collapsed": false
   },
   "outputs": [
    {
     "data": {
      "image/png": "[encoded data removed]",
      "text/plain": [
       "<matplotlib.figure.Figure at 0x16f0db590>"
      ]
     },
     "metadata": {},
     "output_type": "display_data"
    }
   ],
   "source": [
    "from sklearn.ensemble.partial_dependence import plot_partial_dependence\n",
    " \n",
    "fig, axs = plot_partial_dependence(clf, train_X,\n",
    "                                   features=[11,17,13,12],\n",
    "                                   feature_names=train_X.columns,\n",
    "                                   n_cols=2)\n",
    " \n",
    "fig.show((16,16))\n",
    "#clicks, cost_per_conversion, impressions, spent"
   ]
  },
  {
   "cell_type": "code",
   "execution_count": null,
   "metadata": {
    "collapsed": true
   },
   "outputs": [],
   "source": []
  }
 ],
 "metadata": {
  "kernelspec": {
   "display_name": "Python 2",
   "language": "python",
   "name": "python2"
  },
  "language_info": {
   "codemirror_mode": {
    "name": "ipython",
    "version": 2
   },
   "file_extension": ".py",
   "mimetype": "text/x-python",
   "name": "python",
   "nbconvert_exporter": "python",
   "pygments_lexer": "ipython2",
   "version": "2.7.11"
  }
 },
 "nbformat": 4,
 "nbformat_minor": 0
}
