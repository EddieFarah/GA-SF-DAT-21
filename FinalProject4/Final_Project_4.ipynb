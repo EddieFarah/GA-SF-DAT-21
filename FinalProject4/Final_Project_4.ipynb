{
 "cells": [
  {
   "cell_type": "code",
   "execution_count": 303,
   "metadata": {
    "collapsed": true
   },
   "outputs": [],
   "source": [
    "import pandas as pd\n",
    "import numpy as np\n",
    "import matplotlib.pyplot as plt\n",
    "import statsmodels.api as sm\n",
    "import pylab as pl\n",
    "from sklearn import linear_model\n",
    "import seaborn as sns\n",
    "import statsmodels.api as sm\n",
    "import statsmodels.formula.api as smf\n",
    "from sklearn import tree, ensemble, metrics, cross_validation, externals\n",
    "%matplotlib inline"
   ]
  },
  {
   "cell_type": "code",
   "execution_count": 304,
   "metadata": {
    "collapsed": false
   },
   "outputs": [],
   "source": [
    "data = pd.read_csv(\"output2.csv\")"
   ]
  },
  {
   "cell_type": "code",
   "execution_count": 305,
   "metadata": {
    "collapsed": false
   },
   "outputs": [],
   "source": [
    "data = data.drop('Unnamed: 0', 1)"
   ]
  },
  {
   "cell_type": "code",
   "execution_count": 306,
   "metadata": {
    "collapsed": true
   },
   "outputs": [],
   "source": [
    "data = data.dropna()"
   ]
  },
  {
   "cell_type": "code",
   "execution_count": 307,
   "metadata": {
    "collapsed": false
   },
   "outputs": [
    {
     "data": {
      "text/plain": [
       "Index([u'campaign_id', u'reach', u'cpa_min', u'cpa_max', u'cpa_median',\n",
       "       u'cpc_min', u'cpc_max', u'cpc_median', u'cpm_min', u'cpm_max',\n",
       "       u'cpm_median', u'clicks', u'spent', u'impressions', u'conversions',\n",
       "       u'objective', u'date', u'cost_per_click', u'cost_per_impression',\n",
       "       u'cost_per_conversion', u'Objective_EVENT_RESPONSES',\n",
       "       u'Objective_LEAD_GENERATION', u'Objective_LOCAL_AWARENESS',\n",
       "       u'Objective_MOBILE_APP_ENGAGEMENT', u'Objective_MOBILE_APP_INSTALLS',\n",
       "       u'Objective_NONE', u'Objective_PAGE_LIKES',\n",
       "       u'Objective_POST_ENGAGEMENT', u'Objective_VIDEO_VIEWS',\n",
       "       u'Objective_WEBSITE_CLICKS', u'Objective_WEBSITE_CONVERSIONS',\n",
       "       u'campaign_group_id', u'bidStrategy', u'maxBid',\n",
       "       u'Bid_Type_CONVERSION_OPTIMIZE', u'Bid_Type_OPTIMIZE',\n",
       "       u'Bid_Type_ROTATE', u'Bid_Type_ROTATE_INDEFINITELY',\n",
       "       u'Bid_Type_automated', u'Bid_Type_cpc', u'Bid_Type_ocpm'],\n",
       "      dtype='object')"
      ]
     },
     "execution_count": 307,
     "metadata": {},
     "output_type": "execute_result"
    }
   ],
   "source": [
    "data.columns"
   ]
  },
  {
   "cell_type": "code",
   "execution_count": 308,
   "metadata": {
    "collapsed": true
   },
   "outputs": [],
   "source": [
    "def drop_cost_per_conversion_outliers(df):\n",
    "    print 'Dropping outliers'\n",
    "    print '- n (before) =', len(df)\n",
    "\n",
    "    Q1 = df.cost_per_conversion.quantile(.25)\n",
    "    Q2 = df.cost_per_conversion.quantile(.5)\n",
    "    Q3 = df.cost_per_conversion.quantile(.75)\n",
    "    IQR = Q3 - Q1\n",
    "\n",
    "    print '- Q1         =', Q1, '($M)'\n",
    "    print '- Q2/Median  =', Q2, '($M)'\n",
    "    print '- Q3         =', Q3, '($M)'\n",
    "\n",
    "    df.drop(df[(df.cost_per_conversion < Q1 - 1.5 * IQR) | (df.cost_per_conversion > Q3 + 1.5 * IQR)].index, inplace = True)\n",
    "\n",
    "    print '- n (after)  =', len(df)"
   ]
  },
  {
   "cell_type": "code",
   "execution_count": 309,
   "metadata": {
    "collapsed": true
   },
   "outputs": [],
   "source": [
    "def drop_reach_outliers(df):\n",
    "    print 'Dropping outliers'\n",
    "    print '- n (before) =', len(df)\n",
    "\n",
    "    Q1 = df.reach.quantile(.25)\n",
    "    Q2 = df.reach.quantile(.5)\n",
    "    Q3 = df.reach.quantile(.75)\n",
    "    IQR = Q3 - Q1\n",
    "\n",
    "    print '- Q1         =', Q1, '($M)'\n",
    "    print '- Q2/Median  =', Q2, '($M)'\n",
    "    print '- Q3         =', Q3, '($M)'\n",
    "\n",
    "    df.drop(df[(df.reach < Q1 - 1.5 * IQR) | (df.reach > Q3 + 1.5 * IQR)].index, inplace = True)\n",
    "\n",
    "    print '- n (after)  =', len(df)"
   ]
  },
  {
   "cell_type": "code",
   "execution_count": 310,
   "metadata": {
    "collapsed": false
   },
   "outputs": [
    {
     "name": "stdout",
     "output_type": "stream",
     "text": [
      "Dropping outliers\n",
      "- n (before) = 709\n",
      "- Q1         = 0.177419354839 ($M)\n",
      "- Q2/Median  = 0.520602836879 ($M)\n",
      "- Q3         = 2.47513513514 ($M)\n",
      "- n (after)  = 568\n"
     ]
    }
   ],
   "source": [
    "drop_cost_per_conversion_outliers(data)"
   ]
  },
  {
   "cell_type": "code",
   "execution_count": 311,
   "metadata": {
    "collapsed": false
   },
   "outputs": [
    {
     "name": "stdout",
     "output_type": "stream",
     "text": [
      "Dropping outliers\n",
      "- n (before) = 568\n",
      "- Q1         = 50750.0 ($M)\n",
      "- Q2/Median  = 354500.0 ($M)\n",
      "- Q3         = 1660000.0 ($M)\n",
      "- n (after)  = 495\n"
     ]
    }
   ],
   "source": [
    "drop_reach_outliers(data)"
   ]
  },
  {
   "cell_type": "code",
   "execution_count": 312,
   "metadata": {
    "collapsed": false
   },
   "outputs": [
    {
     "data": {
      "text/plain": [
       "<matplotlib.axes._subplots.AxesSubplot at 0x153809cd0>"
      ]
     },
     "execution_count": 312,
     "metadata": {},
     "output_type": "execute_result"
    },
    {
     "data": {
      "image/png": "[encoded data removed]",
      "text/plain": [
       "<matplotlib.figure.Figure at 0x15343f310>"
      ]
     },
     "metadata": {},
     "output_type": "display_data"
    }
   ],
   "source": [
    "# visualize the relationship between the features and the response using scatterplots\n",
    "fig, axs = plt.subplots(1, 3, sharey=True)\n",
    "data.plot(kind='scatter', x='cost_per_conversion', y='conversions', ax=axs[0], figsize=(16, 8))\n",
    "data.plot(kind='scatter', x='spent', y='conversions', ax=axs[1])\n",
    "data.plot(kind='scatter', x='reach', y='conversions', ax=axs[2])"
   ]
  },
  {
   "cell_type": "code",
   "execution_count": 313,
   "metadata": {
    "collapsed": false
   },
   "outputs": [
    {
     "data": {
      "text/plain": [
       "495"
      ]
     },
     "execution_count": 313,
     "metadata": {},
     "output_type": "execute_result"
    }
   ],
   "source": [
    "len(data)"
   ]
  },
  {
   "cell_type": "code",
   "execution_count": 314,
   "metadata": {
    "collapsed": false
   },
   "outputs": [],
   "source": [
    "training_df = data.sample(frac = .6, random_state = 1)\n",
    "test_df = data.drop(training_df.index)"
   ]
  },
  {
   "cell_type": "code",
   "execution_count": 315,
   "metadata": {
    "collapsed": false
   },
   "outputs": [],
   "source": [
    "training_df.reset_index(inplace = True)\n",
    "test_df.reset_index(inplace = True)"
   ]
  },
  {
   "cell_type": "code",
   "execution_count": null,
   "metadata": {
    "collapsed": true
   },
   "outputs": [],
   "source": [
    "training_df = training_df.dropna()\n",
    "test_df = test_df.dropna()"
   ]
  },
  {
   "cell_type": "markdown",
   "metadata": {},
   "source": [
    "**features**\n",
    "\n",
    "- spent\n",
    "- reach\n",
    "- cost_per_conversion\n",
    "- cost_per_click\n",
    "- cost_per_impression\n",
    "- Objective_EVENT_RESPONSES,Objective_LEAD_GENERATION .....  \n",
    "- bidStrategy\n",
    "- maxBid\n",
    "- cpa_min \n",
    "- cpa_max  \n",
    "- cpa_median\n",
    "- cpc_min \n",
    "- cpc_max\n",
    "- cpc_median\n",
    "- cpm_min\n",
    "- cpm_max\n",
    "- cpm_median\n",
    "- objective\n",
    "- date\n",
    "- Bid_Type_CONVERSION_OPTIMIZE\n",
    "- Bid_Type_OPTIMIZE\n",
    "- Bid_Type_ROTATE\n",
    "- Bid_Type_ROTATE_INDEFINITELY\n",
    "- Bid_Type_automated\n",
    "- Bid_Type_cpc\n",
    "- Bid_Type_ocpm"
   ]
  },
  {
   "cell_type": "markdown",
   "metadata": {},
   "source": [
    "** response **\n",
    "\n",
    "Conversions : Number of conversions for a particular campaign "
   ]
  },
  {
   "cell_type": "code",
   "execution_count": 372,
   "metadata": {
    "collapsed": false
   },
   "outputs": [
    {
     "data": {
      "text/html": [
       "<table class=\"simpletable\">\n",
       "<caption>OLS Regression Results</caption>\n",
       "<tr>\n",
       "  <th>Dep. Variable:</th>       <td>conversions</td>   <th>  R-squared:         </th> <td>   0.515</td>\n",
       "</tr>\n",
       "<tr>\n",
       "  <th>Model:</th>                   <td>OLS</td>       <th>  Adj. R-squared:    </th> <td>   0.496</td>\n",
       "</tr>\n",
       "<tr>\n",
       "  <th>Method:</th>             <td>Least Squares</td>  <th>  F-statistic:       </th> <td>   27.51</td>\n",
       "</tr>\n",
       "<tr>\n",
       "  <th>Date:</th>             <td>Tue, 19 Apr 2016</td> <th>  Prob (F-statistic):</th> <td>8.92e-39</td>\n",
       "</tr>\n",
       "<tr>\n",
       "  <th>Time:</th>                 <td>14:51:29</td>     <th>  Log-Likelihood:    </th> <td> -1957.8</td>\n",
       "</tr>\n",
       "<tr>\n",
       "  <th>No. Observations:</th>      <td>   297</td>      <th>  AIC:               </th> <td>   3940.</td>\n",
       "</tr>\n",
       "<tr>\n",
       "  <th>Df Residuals:</th>          <td>   285</td>      <th>  BIC:               </th> <td>   3984.</td>\n",
       "</tr>\n",
       "<tr>\n",
       "  <th>Df Model:</th>              <td>    11</td>      <th>                     </th>     <td> </td>   \n",
       "</tr>\n",
       "<tr>\n",
       "  <th>Covariance Type:</th>      <td>nonrobust</td>    <th>                     </th>     <td> </td>   \n",
       "</tr>\n",
       "</table>\n",
       "<table class=\"simpletable\">\n",
       "<tr>\n",
       "                <td></td>                   <th>coef</th>     <th>std err</th>      <th>t</th>      <th>P>|t|</th> <th>[95.0% Conf. Int.]</th> \n",
       "</tr>\n",
       "<tr>\n",
       "  <th>Intercept</th>                     <td>  207.2853</td> <td>   56.124</td> <td>    3.693</td> <td> 0.000</td> <td>   96.815   317.756</td>\n",
       "</tr>\n",
       "<tr>\n",
       "  <th>spent</th>                         <td>    1.5790</td> <td>    0.108</td> <td>   14.643</td> <td> 0.000</td> <td>    1.367     1.791</td>\n",
       "</tr>\n",
       "<tr>\n",
       "  <th>cost_per_conversion</th>           <td>  -63.7858</td> <td>   15.858</td> <td>   -4.022</td> <td> 0.000</td> <td>  -95.000   -32.571</td>\n",
       "</tr>\n",
       "<tr>\n",
       "  <th>cost_per_click</th>                <td> -110.8477</td> <td>   31.372</td> <td>   -3.533</td> <td> 0.000</td> <td> -172.599   -49.097</td>\n",
       "</tr>\n",
       "<tr>\n",
       "  <th>reach</th>                         <td> 1.939e-05</td> <td> 1.19e-05</td> <td>    1.631</td> <td> 0.104</td> <td>   -4e-06  4.28e-05</td>\n",
       "</tr>\n",
       "<tr>\n",
       "  <th>Objective_PAGE_LIKES</th>          <td>  -74.3487</td> <td>   46.119</td> <td>   -1.612</td> <td> 0.108</td> <td> -165.126    16.429</td>\n",
       "</tr>\n",
       "<tr>\n",
       "  <th>Objective_MOBILE_APP_INSTALLS</th> <td>    1.6220</td> <td>   79.749</td> <td>    0.020</td> <td> 0.984</td> <td> -155.350   158.594</td>\n",
       "</tr>\n",
       "<tr>\n",
       "  <th>Objective_WEBSITE_CONVERSIONS</th> <td>   31.4294</td> <td>   43.365</td> <td>    0.725</td> <td> 0.469</td> <td>  -53.928   116.786</td>\n",
       "</tr>\n",
       "<tr>\n",
       "  <th>Bid_Type_automated</th>            <td>  -37.4834</td> <td>   56.355</td> <td>   -0.665</td> <td> 0.507</td> <td> -148.408    73.441</td>\n",
       "</tr>\n",
       "<tr>\n",
       "  <th>Bid_Type_cpc</th>                  <td>  -57.1777</td> <td>   78.119</td> <td>   -0.732</td> <td> 0.465</td> <td> -210.941    96.586</td>\n",
       "</tr>\n",
       "<tr>\n",
       "  <th>Bid_Type_ocpm</th>                 <td>    7.3315</td> <td>   68.688</td> <td>    0.107</td> <td> 0.915</td> <td> -127.868   142.531</td>\n",
       "</tr>\n",
       "<tr>\n",
       "  <th>maxBid</th>                        <td>  -12.4672</td> <td>   55.427</td> <td>   -0.225</td> <td> 0.822</td> <td> -121.565    96.631</td>\n",
       "</tr>\n",
       "</table>\n",
       "<table class=\"simpletable\">\n",
       "<tr>\n",
       "  <th>Omnibus:</th>       <td>75.011</td> <th>  Durbin-Watson:     </th> <td>   1.946</td>\n",
       "</tr>\n",
       "<tr>\n",
       "  <th>Prob(Omnibus):</th> <td> 0.000</td> <th>  Jarque-Bera (JB):  </th> <td> 146.350</td>\n",
       "</tr>\n",
       "<tr>\n",
       "  <th>Skew:</th>          <td> 1.316</td> <th>  Prob(JB):          </th> <td>1.66e-32</td>\n",
       "</tr>\n",
       "<tr>\n",
       "  <th>Kurtosis:</th>      <td> 5.213</td> <th>  Cond. No.          </th> <td>1.26e+07</td>\n",
       "</tr>\n",
       "</table>"
      ],
      "text/plain": [
       "<class 'statsmodels.iolib.summary.Summary'>\n",
       "\"\"\"\n",
       "                            OLS Regression Results                            \n",
       "==============================================================================\n",
       "Dep. Variable:            conversions   R-squared:                       0.515\n",
       "Model:                            OLS   Adj. R-squared:                  0.496\n",
       "Method:                 Least Squares   F-statistic:                     27.51\n",
       "Date:                Tue, 19 Apr 2016   Prob (F-statistic):           8.92e-39\n",
       "Time:                        14:51:29   Log-Likelihood:                -1957.8\n",
       "No. Observations:                 297   AIC:                             3940.\n",
       "Df Residuals:                     285   BIC:                             3984.\n",
       "Df Model:                          11                                         \n",
       "Covariance Type:            nonrobust                                         \n",
       "=================================================================================================\n",
       "                                    coef    std err          t      P>|t|      [95.0% Conf. Int.]\n",
       "-------------------------------------------------------------------------------------------------\n",
       "Intercept                       207.2853     56.124      3.693      0.000        96.815   317.756\n",
       "spent                             1.5790      0.108     14.643      0.000         1.367     1.791\n",
       "cost_per_conversion             -63.7858     15.858     -4.022      0.000       -95.000   -32.571\n",
       "cost_per_click                 -110.8477     31.372     -3.533      0.000      -172.599   -49.097\n",
       "reach                          1.939e-05   1.19e-05      1.631      0.104        -4e-06  4.28e-05\n",
       "Objective_PAGE_LIKES            -74.3487     46.119     -1.612      0.108      -165.126    16.429\n",
       "Objective_MOBILE_APP_INSTALLS     1.6220     79.749      0.020      0.984      -155.350   158.594\n",
       "Objective_WEBSITE_CONVERSIONS    31.4294     43.365      0.725      0.469       -53.928   116.786\n",
       "Bid_Type_automated              -37.4834     56.355     -0.665      0.507      -148.408    73.441\n",
       "Bid_Type_cpc                    -57.1777     78.119     -0.732      0.465      -210.941    96.586\n",
       "Bid_Type_ocpm                     7.3315     68.688      0.107      0.915      -127.868   142.531\n",
       "maxBid                          -12.4672     55.427     -0.225      0.822      -121.565    96.631\n",
       "==============================================================================\n",
       "Omnibus:                       75.011   Durbin-Watson:                   1.946\n",
       "Prob(Omnibus):                  0.000   Jarque-Bera (JB):              146.350\n",
       "Skew:                           1.316   Prob(JB):                     1.66e-32\n",
       "Kurtosis:                       5.213   Cond. No.                     1.26e+07\n",
       "==============================================================================\n",
       "\n",
       "Warnings:\n",
       "[1] Standard Errors assume that the covariance matrix of the errors is correctly specified.\n",
       "[2] The condition number is large, 1.26e+07. This might indicate that there are\n",
       "strong multicollinearity or other numerical problems.\n",
       "\"\"\""
      ]
     },
     "execution_count": 372,
     "metadata": {},
     "output_type": "execute_result"
    }
   ],
   "source": [
    "model = smf.ols(formula = 'conversions ~ spent + cost_per_conversion + cost_per_click + reach + Objective_PAGE_LIKES + Objective_MOBILE_APP_INSTALLS +Objective_WEBSITE_CONVERSIONS  + Bid_Type_automated + Bid_Type_cpc+ Bid_Type_ocpm + maxBid', data = training_df).fit()\n",
    "\n",
    "model.summary()"
   ]
  },
  {
   "cell_type": "markdown",
   "metadata": {},
   "source": [
    "##  Pvalues and Hypothesis testing "
   ]
  },
  {
   "cell_type": "markdown",
   "metadata": {},
   "source": [
    "- If the 95% confidence interval includes zero, the p-value for that coefficient will be greater than 0.05. If the 95% confidence interval does not include zero, the p-value will be less than 0.05. Thus, a p-value less than 0.05 is one way to decide whether there is likely a relationship between the feature and the response. (Again, using 0.05 as the cutoff is just a convention.)\n",
    "- In this case, the p-value for spent, cost_per_conversion, cost_per_click is far less than 0.05, and so we believe that there is a relationship between them and conversions."
   ]
  },
  {
   "cell_type": "markdown",
   "metadata": {},
   "source": [
    "- A \"unit\" increase in spending is associated with a 1.57 \"unit\" increase in Conversions.\n",
    "- Or more clearly: An additional $1,000 spent ads is associated with an increase in 1570 conversion."
   ]
  },
  {
   "cell_type": "markdown",
   "metadata": {},
   "source": [
    "## R^2"
   ]
  },
  {
   "cell_type": "code",
   "execution_count": 373,
   "metadata": {
    "collapsed": false
   },
   "outputs": [
    {
     "data": {
      "text/plain": [
       "0.51495452634317807"
      ]
     },
     "execution_count": 373,
     "metadata": {},
     "output_type": "execute_result"
    }
   ],
   "source": [
    "model.rsquared"
   ]
  },
  {
   "cell_type": "markdown",
   "metadata": {},
   "source": [
    "R-squared will always increase as you add more features to the model, even if they are unrelated to the response. Thus, selecting the model with the highest R-squared is not a reliable approach for choosing the best linear model."
   ]
  },
  {
   "cell_type": "code",
   "execution_count": 374,
   "metadata": {
    "collapsed": false
   },
   "outputs": [
    {
     "data": {
      "image/png": "[encoded data removed]",
      "text/plain": [
       "<matplotlib.figure.Figure at 0x166aad390>"
      ]
     },
     "metadata": {},
     "output_type": "display_data"
    }
   ],
   "source": [
    "# Plotting qqolots to check normality assumption - Plot of the quantiles of the first dataset (vertically) against the quantiles of the second’s (horizontally)\n",
    "figure = sm.qqplot(model.resid, line = 's')"
   ]
  },
  {
   "cell_type": "code",
   "execution_count": 375,
   "metadata": {
    "collapsed": false
   },
   "outputs": [
    {
     "data": {
      "image/png": "[encoded data removed]",
      "text/plain": [
       "<matplotlib.figure.Figure at 0x167170fd0>"
      ]
     },
     "metadata": {},
     "output_type": "display_data"
    }
   ],
   "source": [
    "# to check modeling assumptions with respect to a single regressor\n",
    "figure = sm.graphics.plot_regress_exog(model, 'spent')"
   ]
  },
  {
   "cell_type": "markdown",
   "metadata": {},
   "source": [
    "## Better Model ? "
   ]
  },
  {
   "cell_type": "markdown",
   "metadata": {},
   "source": [
    "** How do I decide which features to include in a linear model? Here's one idea:**\n",
    "- Try different models, and only keep predictors in the model if they have small p-values.\n",
    "Check whether the R-squared value goes up when you add new predictors.\n",
    "What are the drawbacks to this approach?\n",
    "Linear models rely upon a lot of assumptions (such as the features being independent), and if those assumptions are violated (which they usually are), R-squared and p-values are less reliable.\n",
    "Using a p-value cutoff of 0.05 means that if you add 100 predictors to a model that are pure noise, 5 of them (on average) will still be counted as significant.\n",
    "R-squared is susceptible to overfitting, and thus there is no guarantee that a model with a high R-squared value will generalize."
   ]
  },
  {
   "cell_type": "code",
   "execution_count": 376,
   "metadata": {
    "collapsed": false
   },
   "outputs": [
    {
     "data": {
      "text/html": [
       "<table class=\"simpletable\">\n",
       "<caption>OLS Regression Results</caption>\n",
       "<tr>\n",
       "  <th>Dep. Variable:</th>       <td>conversions</td>   <th>  R-squared:         </th> <td>   0.501</td>\n",
       "</tr>\n",
       "<tr>\n",
       "  <th>Model:</th>                   <td>OLS</td>       <th>  Adj. R-squared:    </th> <td>   0.496</td>\n",
       "</tr>\n",
       "<tr>\n",
       "  <th>Method:</th>             <td>Least Squares</td>  <th>  F-statistic:       </th> <td>   98.05</td>\n",
       "</tr>\n",
       "<tr>\n",
       "  <th>Date:</th>             <td>Tue, 19 Apr 2016</td> <th>  Prob (F-statistic):</th> <td>5.78e-44</td>\n",
       "</tr>\n",
       "<tr>\n",
       "  <th>Time:</th>                 <td>14:52:56</td>     <th>  Log-Likelihood:    </th> <td> -1962.0</td>\n",
       "</tr>\n",
       "<tr>\n",
       "  <th>No. Observations:</th>      <td>   297</td>      <th>  AIC:               </th> <td>   3932.</td>\n",
       "</tr>\n",
       "<tr>\n",
       "  <th>Df Residuals:</th>          <td>   293</td>      <th>  BIC:               </th> <td>   3947.</td>\n",
       "</tr>\n",
       "<tr>\n",
       "  <th>Df Model:</th>              <td>     3</td>      <th>                     </th>     <td> </td>   \n",
       "</tr>\n",
       "<tr>\n",
       "  <th>Covariance Type:</th>      <td>nonrobust</td>    <th>                     </th>     <td> </td>   \n",
       "</tr>\n",
       "</table>\n",
       "<table class=\"simpletable\">\n",
       "<tr>\n",
       "           <td></td>              <th>coef</th>     <th>std err</th>      <th>t</th>      <th>P>|t|</th> <th>[95.0% Conf. Int.]</th> \n",
       "</tr>\n",
       "<tr>\n",
       "  <th>Intercept</th>           <td>  184.3354</td> <td>   15.806</td> <td>   11.662</td> <td> 0.000</td> <td>  153.227   215.443</td>\n",
       "</tr>\n",
       "<tr>\n",
       "  <th>spent</th>               <td>    1.5879</td> <td>    0.106</td> <td>   15.031</td> <td> 0.000</td> <td>    1.380     1.796</td>\n",
       "</tr>\n",
       "<tr>\n",
       "  <th>cost_per_conversion</th> <td>  -60.2832</td> <td>   12.736</td> <td>   -4.733</td> <td> 0.000</td> <td>  -85.348   -35.218</td>\n",
       "</tr>\n",
       "<tr>\n",
       "  <th>cost_per_click</th>      <td> -120.4702</td> <td>   29.344</td> <td>   -4.106</td> <td> 0.000</td> <td> -178.221   -62.719</td>\n",
       "</tr>\n",
       "</table>\n",
       "<table class=\"simpletable\">\n",
       "<tr>\n",
       "  <th>Omnibus:</th>       <td>75.148</td> <th>  Durbin-Watson:     </th> <td>   1.969</td>\n",
       "</tr>\n",
       "<tr>\n",
       "  <th>Prob(Omnibus):</th> <td> 0.000</td> <th>  Jarque-Bera (JB):  </th> <td> 144.550</td>\n",
       "</tr>\n",
       "<tr>\n",
       "  <th>Skew:</th>          <td> 1.329</td> <th>  Prob(JB):          </th> <td>4.09e-32</td>\n",
       "</tr>\n",
       "<tr>\n",
       "  <th>Kurtosis:</th>      <td> 5.150</td> <th>  Cond. No.          </th> <td>    392.</td>\n",
       "</tr>\n",
       "</table>"
      ],
      "text/plain": [
       "<class 'statsmodels.iolib.summary.Summary'>\n",
       "\"\"\"\n",
       "                            OLS Regression Results                            \n",
       "==============================================================================\n",
       "Dep. Variable:            conversions   R-squared:                       0.501\n",
       "Model:                            OLS   Adj. R-squared:                  0.496\n",
       "Method:                 Least Squares   F-statistic:                     98.05\n",
       "Date:                Tue, 19 Apr 2016   Prob (F-statistic):           5.78e-44\n",
       "Time:                        14:52:56   Log-Likelihood:                -1962.0\n",
       "No. Observations:                 297   AIC:                             3932.\n",
       "Df Residuals:                     293   BIC:                             3947.\n",
       "Df Model:                           3                                         \n",
       "Covariance Type:            nonrobust                                         \n",
       "=======================================================================================\n",
       "                          coef    std err          t      P>|t|      [95.0% Conf. Int.]\n",
       "---------------------------------------------------------------------------------------\n",
       "Intercept             184.3354     15.806     11.662      0.000       153.227   215.443\n",
       "spent                   1.5879      0.106     15.031      0.000         1.380     1.796\n",
       "cost_per_conversion   -60.2832     12.736     -4.733      0.000       -85.348   -35.218\n",
       "cost_per_click       -120.4702     29.344     -4.106      0.000      -178.221   -62.719\n",
       "==============================================================================\n",
       "Omnibus:                       75.148   Durbin-Watson:                   1.969\n",
       "Prob(Omnibus):                  0.000   Jarque-Bera (JB):              144.550\n",
       "Skew:                           1.329   Prob(JB):                     4.09e-32\n",
       "Kurtosis:                       5.150   Cond. No.                         392.\n",
       "==============================================================================\n",
       "\n",
       "Warnings:\n",
       "[1] Standard Errors assume that the covariance matrix of the errors is correctly specified.\n",
       "\"\"\""
      ]
     },
     "execution_count": 376,
     "metadata": {},
     "output_type": "execute_result"
    }
   ],
   "source": [
    "model2 = smf.ols(formula = 'conversions ~ spent + cost_per_conversion + cost_per_click', data = training_df).fit()\n",
    "\n",
    "model2.summary()"
   ]
  },
  {
   "cell_type": "code",
   "execution_count": 377,
   "metadata": {
    "collapsed": false
   },
   "outputs": [
    {
     "data": {
      "text/plain": [
       "0.5009788955235488"
      ]
     },
     "execution_count": 377,
     "metadata": {},
     "output_type": "execute_result"
    }
   ],
   "source": [
    "model2.rsquared"
   ]
  },
  {
   "cell_type": "markdown",
   "metadata": {},
   "source": [
    "R-squared will always increase as you add more features to the model, even if they are unrelated to the response. Thus, selecting the model with the highest R-squared is not a reliable approach for choosing the best linear model.\n",
    "So is there a better approach to feature selection? Cross-validation. It provides a more reliable estimate of out-of-sample error, and thus is a better way to choose which of your models will best generalize to out-of-sample data. "
   ]
  },
  {
   "cell_type": "markdown",
   "metadata": {},
   "source": [
    "## Plotting the Least Squares Line"
   ]
  },
  {
   "cell_type": "code",
   "execution_count": 378,
   "metadata": {
    "collapsed": false
   },
   "outputs": [
    {
     "data": {
      "text/html": [
       "<table class=\"simpletable\">\n",
       "<caption>OLS Regression Results</caption>\n",
       "<tr>\n",
       "  <th>Dep. Variable:</th>       <td>conversions</td>   <th>  R-squared:         </th> <td>   0.314</td>\n",
       "</tr>\n",
       "<tr>\n",
       "  <th>Model:</th>                   <td>OLS</td>       <th>  Adj. R-squared:    </th> <td>   0.312</td>\n",
       "</tr>\n",
       "<tr>\n",
       "  <th>Method:</th>             <td>Least Squares</td>  <th>  F-statistic:       </th> <td>   135.0</td>\n",
       "</tr>\n",
       "<tr>\n",
       "  <th>Date:</th>             <td>Tue, 19 Apr 2016</td> <th>  Prob (F-statistic):</th> <td>6.06e-26</td>\n",
       "</tr>\n",
       "<tr>\n",
       "  <th>Time:</th>                 <td>14:53:09</td>     <th>  Log-Likelihood:    </th> <td> -2009.3</td>\n",
       "</tr>\n",
       "<tr>\n",
       "  <th>No. Observations:</th>      <td>   297</td>      <th>  AIC:               </th> <td>   4023.</td>\n",
       "</tr>\n",
       "<tr>\n",
       "  <th>Df Residuals:</th>          <td>   295</td>      <th>  BIC:               </th> <td>   4030.</td>\n",
       "</tr>\n",
       "<tr>\n",
       "  <th>Df Model:</th>              <td>     1</td>      <th>                     </th>     <td> </td>   \n",
       "</tr>\n",
       "<tr>\n",
       "  <th>Covariance Type:</th>      <td>nonrobust</td>    <th>                     </th>     <td> </td>   \n",
       "</tr>\n",
       "</table>\n",
       "<table class=\"simpletable\">\n",
       "<tr>\n",
       "      <td></td>         <th>coef</th>     <th>std err</th>      <th>t</th>      <th>P>|t|</th> <th>[95.0% Conf. Int.]</th> \n",
       "</tr>\n",
       "<tr>\n",
       "  <th>Intercept</th> <td>  102.1241</td> <td>   16.006</td> <td>    6.380</td> <td> 0.000</td> <td>   70.623   133.625</td>\n",
       "</tr>\n",
       "<tr>\n",
       "  <th>spent</th>     <td>    1.3977</td> <td>    0.120</td> <td>   11.617</td> <td> 0.000</td> <td>    1.161     1.635</td>\n",
       "</tr>\n",
       "</table>\n",
       "<table class=\"simpletable\">\n",
       "<tr>\n",
       "  <th>Omnibus:</th>       <td>67.607</td> <th>  Durbin-Watson:     </th> <td>   1.912</td>\n",
       "</tr>\n",
       "<tr>\n",
       "  <th>Prob(Omnibus):</th> <td> 0.000</td> <th>  Jarque-Bera (JB):  </th> <td> 122.407</td>\n",
       "</tr>\n",
       "<tr>\n",
       "  <th>Skew:</th>          <td> 1.229</td> <th>  Prob(JB):          </th> <td>2.63e-27</td>\n",
       "</tr>\n",
       "<tr>\n",
       "  <th>Kurtosis:</th>      <td> 4.961</td> <th>  Cond. No.          </th> <td>    174.</td>\n",
       "</tr>\n",
       "</table>"
      ],
      "text/plain": [
       "<class 'statsmodels.iolib.summary.Summary'>\n",
       "\"\"\"\n",
       "                            OLS Regression Results                            \n",
       "==============================================================================\n",
       "Dep. Variable:            conversions   R-squared:                       0.314\n",
       "Model:                            OLS   Adj. R-squared:                  0.312\n",
       "Method:                 Least Squares   F-statistic:                     135.0\n",
       "Date:                Tue, 19 Apr 2016   Prob (F-statistic):           6.06e-26\n",
       "Time:                        14:53:09   Log-Likelihood:                -2009.3\n",
       "No. Observations:                 297   AIC:                             4023.\n",
       "Df Residuals:                     295   BIC:                             4030.\n",
       "Df Model:                           1                                         \n",
       "Covariance Type:            nonrobust                                         \n",
       "==============================================================================\n",
       "                 coef    std err          t      P>|t|      [95.0% Conf. Int.]\n",
       "------------------------------------------------------------------------------\n",
       "Intercept    102.1241     16.006      6.380      0.000        70.623   133.625\n",
       "spent          1.3977      0.120     11.617      0.000         1.161     1.635\n",
       "==============================================================================\n",
       "Omnibus:                       67.607   Durbin-Watson:                   1.912\n",
       "Prob(Omnibus):                  0.000   Jarque-Bera (JB):              122.407\n",
       "Skew:                           1.229   Prob(JB):                     2.63e-27\n",
       "Kurtosis:                       4.961   Cond. No.                         174.\n",
       "==============================================================================\n",
       "\n",
       "Warnings:\n",
       "[1] Standard Errors assume that the covariance matrix of the errors is correctly specified.\n",
       "\"\"\""
      ]
     },
     "execution_count": 378,
     "metadata": {},
     "output_type": "execute_result"
    }
   ],
   "source": [
    "model3 = smf.ols(formula = 'conversions ~ spent', data = training_df).fit()\n",
    "\n",
    "model3.summary()"
   ]
  },
  {
   "cell_type": "code",
   "execution_count": 379,
   "metadata": {
    "collapsed": false
   },
   "outputs": [
    {
     "data": {
      "text/html": [
       "<div>\n",
       "<table border=\"1\" class=\"dataframe\">\n",
       "  <thead>\n",
       "    <tr style=\"text-align: right;\">\n",
       "      <th></th>\n",
       "      <th>spent</th>\n",
       "    </tr>\n",
       "  </thead>\n",
       "  <tbody>\n",
       "    <tr>\n",
       "      <th>0</th>\n",
       "      <td>0.03</td>\n",
       "    </tr>\n",
       "    <tr>\n",
       "      <th>1</th>\n",
       "      <td>624.86</td>\n",
       "    </tr>\n",
       "  </tbody>\n",
       "</table>\n",
       "</div>"
      ],
      "text/plain": [
       "    spent\n",
       "0    0.03\n",
       "1  624.86"
      ]
     },
     "execution_count": 379,
     "metadata": {},
     "output_type": "execute_result"
    }
   ],
   "source": [
    "# create a DataFrame with the minimum and maximum values of TV\n",
    "X_new = pd.DataFrame({'spent': [data.spent.min(), data.spent.max()]})\n",
    "X_new.head()"
   ]
  },
  {
   "cell_type": "code",
   "execution_count": 380,
   "metadata": {
    "collapsed": false
   },
   "outputs": [
    {
     "data": {
      "text/plain": [
       "array([ 102.16606181,  975.50652939])"
      ]
     },
     "execution_count": 380,
     "metadata": {},
     "output_type": "execute_result"
    }
   ],
   "source": [
    "# make predictions for those x values and store them\n",
    "preds = model3.predict(X_new)\n",
    "preds"
   ]
  },
  {
   "cell_type": "code",
   "execution_count": 381,
   "metadata": {
    "collapsed": false
   },
   "outputs": [
    {
     "data": {
      "text/plain": [
       "[<matplotlib.lines.Line2D at 0x1669d6410>]"
      ]
     },
     "execution_count": 381,
     "metadata": {},
     "output_type": "execute_result"
    },
    {
     "data": {
      "image/png": "[encoded data removed]",
      "text/plain": [
       "<matplotlib.figure.Figure at 0x16535f4d0>"
      ]
     },
     "metadata": {},
     "output_type": "display_data"
    }
   ],
   "source": [
    "# first, plot the observed data\n",
    "data.plot(kind='scatter', x='spent', y='conversions')\n",
    "\n",
    "# then, plot the least squares line\n",
    "plt.plot(X_new, preds, c='red', linewidth=2)"
   ]
  },
  {
   "cell_type": "code",
   "execution_count": null,
   "metadata": {
    "collapsed": true
   },
   "outputs": [],
   "source": [
    "X = data[data.columns.values]\n",
    "X.drop('conversions', axis = 1, inplace = True)\n",
    "X.drop('clicks', axis = 1, inplace = True)\n",
    "X.drop('impressions', axis = 1, inplace = True)\n",
    "\n",
    "y = data.conversions"
   ]
  },
  {
   "cell_type": "code",
   "execution_count": null,
   "metadata": {
    "collapsed": true
   },
   "outputs": [],
   "source": [
    "len(X)"
   ]
  },
  {
   "cell_type": "code",
   "execution_count": null,
   "metadata": {
    "collapsed": true
   },
   "outputs": [],
   "source": [
    "X.head()"
   ]
  },
  {
   "cell_type": "code",
   "execution_count": null,
   "metadata": {
    "collapsed": true
   },
   "outputs": [],
   "source": [
    "X.drop('bidStrategy', axis = 1, inplace = True)\n",
    "X.drop('objective', axis = 1, inplace = True)\n",
    "X.drop('campaign_group_id', axis = 1, inplace = True)"
   ]
  },
  {
   "cell_type": "code",
   "execution_count": null,
   "metadata": {
    "collapsed": true
   },
   "outputs": [],
   "source": [
    "X.cost_per_click = X.cost_per_click.round(decimals=2)\n",
    "X.cost_per_impression = X.cost_per_impression.round(decimals=2)\n",
    "X.cost_per_conversion = X.cost_per_conversion.round(decimals=2)"
   ]
  },
  {
   "cell_type": "markdown",
   "metadata": {},
   "source": [
    "Now we have to split the datasets into training and validation. The training data will be used to generate the trees that will constitute the final averaged model."
   ]
  },
  {
   "cell_type": "code",
   "execution_count": null,
   "metadata": {
    "collapsed": true
   },
   "outputs": [],
   "source": [
    "train_X, test_X, train_y, test_y = cross_validation.train_test_split(X, y, test_size = 0.4)"
   ]
  },
  {
   "cell_type": "markdown",
   "metadata": {},
   "source": [
    "### Linear Regression - scikit-learn"
   ]
  },
  {
   "cell_type": "markdown",
   "metadata": {},
   "source": [
    "We use cross validation to compare between models and choose the model with the best cross validation value. Once we discover that we need to create a final model and then predict using it"
   ]
  },
  {
   "cell_type": "code",
   "execution_count": 389,
   "metadata": {
    "collapsed": false
   },
   "outputs": [
    {
     "data": {
      "text/plain": [
       "0.40624111090910675"
      ]
     },
     "execution_count": 389,
     "metadata": {},
     "output_type": "execute_result"
    }
   ],
   "source": [
    "train_df_X = training_df[ ['spent','cost_per_conversion','cost_per_click'] ]\n",
    "train_df_y = training_df['conversions']\n",
    "\n",
    "model = linear_model.LinearRegression()\n",
    "cross_validation.cross_val_score(model, train_df_X, train_df_y, cv = 10).mean()"
   ]
  },
  {
   "cell_type": "code",
   "execution_count": 390,
   "metadata": {
    "collapsed": false
   },
   "outputs": [
    {
     "data": {
      "text/plain": [
       "0.21213237661083778"
      ]
     },
     "execution_count": 390,
     "metadata": {},
     "output_type": "execute_result"
    }
   ],
   "source": [
    "train_df_X = training_df[ ['spent'] ]\n",
    "train_df_y = training_df['conversions']\n",
    "\n",
    "model = linear_model.LinearRegression()\n",
    "cross_validation.cross_val_score(model, train_df_X, train_df_y, cv = 10).mean()"
   ]
  },
  {
   "cell_type": "code",
   "execution_count": 393,
   "metadata": {
    "collapsed": false
   },
   "outputs": [
    {
     "data": {
      "text/plain": [
       "0.38485054574787619"
      ]
     },
     "execution_count": 393,
     "metadata": {},
     "output_type": "execute_result"
    }
   ],
   "source": [
    "train_df_X = training_df[ ['spent','cost_per_conversion'] ]\n",
    "train_df_y = training_df['conversions']\n",
    "\n",
    "model = linear_model.LinearRegression()\n",
    "cross_validation.cross_val_score(model, train_df_X, train_df_y, cv = 10).mean()"
   ]
  },
  {
   "cell_type": "code",
   "execution_count": 394,
   "metadata": {
    "collapsed": false
   },
   "outputs": [
    {
     "data": {
      "text/plain": [
       "0.36015237316522819"
      ]
     },
     "execution_count": 394,
     "metadata": {},
     "output_type": "execute_result"
    }
   ],
   "source": [
    "train_df_X = training_df[ ['spent','cost_per_click'] ]\n",
    "train_df_y = training_df['conversions']\n",
    "\n",
    "model = linear_model.LinearRegression()\n",
    "cross_validation.cross_val_score(model, train_df_X, train_df_y, cv = 10).mean()"
   ]
  },
  {
   "cell_type": "code",
   "execution_count": 396,
   "metadata": {
    "collapsed": false
   },
   "outputs": [],
   "source": [
    "training_df['spent * cost_per_conversion'] = training_df.spent * training_df.cost_per_conversion"
   ]
  },
  {
   "cell_type": "code",
   "execution_count": 398,
   "metadata": {
    "collapsed": false
   },
   "outputs": [
    {
     "data": {
      "text/plain": [
       "0.47482648793605781"
      ]
     },
     "execution_count": 398,
     "metadata": {},
     "output_type": "execute_result"
    }
   ],
   "source": [
    "train_df_X = training_df[ ['spent','cost_per_conversion','spent * cost_per_conversion'] ]\n",
    "train_df_y = training_df['conversions']\n",
    "\n",
    "model = linear_model.LinearRegression()\n",
    "cross_validation.cross_val_score(model, train_df_X, train_df_y, cv = 10).mean()"
   ]
  },
  {
   "cell_type": "code",
   "execution_count": 399,
   "metadata": {
    "collapsed": false
   },
   "outputs": [
    {
     "data": {
      "text/plain": [
       "0.47781732476038652"
      ]
     },
     "execution_count": 399,
     "metadata": {},
     "output_type": "execute_result"
    }
   ],
   "source": [
    "train_df_X = training_df[ ['spent','cost_per_conversion','spent * cost_per_conversion','reach'] ]\n",
    "train_df_y = training_df['conversions']\n",
    "\n",
    "model = linear_model.LinearRegression()\n",
    "cross_validation.cross_val_score(model, train_df_X, train_df_y, cv = 10).mean()"
   ]
  },
  {
   "cell_type": "markdown",
   "metadata": {},
   "source": [
    "# Regression Decision Trees"
   ]
  },
  {
   "cell_type": "code",
   "execution_count": 218,
   "metadata": {
    "collapsed": false
   },
   "outputs": [
    {
     "data": {
      "text/plain": [
       "DecisionTreeRegressor(criterion='mse', max_depth=None, max_features=None,\n",
       "           max_leaf_nodes=None, min_samples_leaf=1, min_samples_split=2,\n",
       "           min_weight_fraction_leaf=0.0, presort=False, random_state=None,\n",
       "           splitter='best')"
      ]
     },
     "execution_count": 218,
     "metadata": {},
     "output_type": "execute_result"
    }
   ],
   "source": [
    "model = tree.DecisionTreeRegressor()\n",
    "model.fit(train_X, train_y)"
   ]
  },
  {
   "cell_type": "markdown",
   "metadata": {},
   "source": [
    "### Calculating MSE (Mean squared error regression loss)"
   ]
  },
  {
   "cell_type": "code",
   "execution_count": 219,
   "metadata": {
    "collapsed": false
   },
   "outputs": [
    {
     "name": "stdout",
     "output_type": "stream",
     "text": [
      "0.0\n",
      "105.588658429\n"
     ]
    }
   ],
   "source": [
    "train_y_hat = model.predict(train_X)\n",
    "print np.sqrt(metrics.mean_squared_error(train_y, train_y_hat))\n",
    "\n",
    "test_y_hat = model.predict(test_X)\n",
    "print np.sqrt(metrics.mean_squared_error(test_y, test_y_hat))"
   ]
  },
  {
   "cell_type": "code",
   "execution_count": 220,
   "metadata": {
    "collapsed": false
   },
   "outputs": [
    {
     "data": {
      "text/plain": [
       "DecisionTreeRegressor(criterion='mse', max_depth=4, max_features=None,\n",
       "           max_leaf_nodes=None, min_samples_leaf=1, min_samples_split=2,\n",
       "           min_weight_fraction_leaf=0.0, presort=False, random_state=None,\n",
       "           splitter='best')"
      ]
     },
     "execution_count": 220,
     "metadata": {},
     "output_type": "execute_result"
    }
   ],
   "source": [
    "model = tree.DecisionTreeRegressor(max_depth = 4)\n",
    "model.fit(train_X, train_y)"
   ]
  },
  {
   "cell_type": "markdown",
   "metadata": {},
   "source": [
    "### Calculate Features Importance"
   ]
  },
  {
   "cell_type": "code",
   "execution_count": 221,
   "metadata": {
    "collapsed": false
   },
   "outputs": [
    {
     "data": {
      "text/plain": [
       "[(0.56172771516256303, 'clicks'),\n",
       " (0.38957847284239799, 'cost_per_conversion'),\n",
       " (0.024497866140200251, 'spent'),\n",
       " (0.01182488350160881, 'impressions'),\n",
       " (0.011619538566606816, 'cpm_median'),\n",
       " (0.00075152378662308897, 'cpm_max'),\n",
       " (0.0, 'reach'),\n",
       " (0.0, 'maxBid'),\n",
       " (0.0, 'date'),\n",
       " (0.0, 'cpm_min'),\n",
       " (0.0, 'cpc_min'),\n",
       " (0.0, 'cpc_median'),\n",
       " (0.0, 'cpc_max'),\n",
       " (0.0, 'cpa_min'),\n",
       " (0.0, 'cpa_median'),\n",
       " (0.0, 'cpa_max'),\n",
       " (0.0, 'cost_per_impression'),\n",
       " (0.0, 'cost_per_click'),\n",
       " (0.0, 'campaign_id'),\n",
       " (0.0, 'Objective_WEBSITE_CONVERSIONS'),\n",
       " (0.0, 'Objective_WEBSITE_CLICKS'),\n",
       " (0.0, 'Objective_VIDEO_VIEWS'),\n",
       " (0.0, 'Objective_POST_ENGAGEMENT'),\n",
       " (0.0, 'Objective_PAGE_LIKES'),\n",
       " (0.0, 'Objective_NONE'),\n",
       " (0.0, 'Objective_MOBILE_APP_INSTALLS'),\n",
       " (0.0, 'Objective_MOBILE_APP_ENGAGEMENT'),\n",
       " (0.0, 'Objective_LOCAL_AWARENESS'),\n",
       " (0.0, 'Objective_LEAD_GENERATION'),\n",
       " (0.0, 'Objective_EVENT_RESPONSES'),\n",
       " (0.0, 'Bid_Type_ocpm'),\n",
       " (0.0, 'Bid_Type_cpc'),\n",
       " (0.0, 'Bid_Type_automated'),\n",
       " (0.0, 'Bid_Type_ROTATE_INDEFINITELY'),\n",
       " (0.0, 'Bid_Type_ROTATE'),\n",
       " (0.0, 'Bid_Type_OPTIMIZE'),\n",
       " (0.0, 'Bid_Type_CONVERSION_OPTIMIZE')]"
      ]
     },
     "execution_count": 221,
     "metadata": {},
     "output_type": "execute_result"
    }
   ],
   "source": [
    "sorted(zip(model.feature_importances_, X.columns.values), reverse = True)"
   ]
  },
  {
   "cell_type": "markdown",
   "metadata": {},
   "source": [
    "## Random Forest Classifier"
   ]
  },
  {
   "cell_type": "code",
   "execution_count": 222,
   "metadata": {
    "collapsed": false
   },
   "outputs": [
    {
     "data": {
      "text/plain": [
       "RandomForestClassifier(bootstrap=True, class_weight=None, criterion='gini',\n",
       "            max_depth=None, max_features=4, max_leaf_nodes=None,\n",
       "            min_samples_leaf=5, min_samples_split=2,\n",
       "            min_weight_fraction_leaf=0.0, n_estimators=1000, n_jobs=1,\n",
       "            oob_score=True, random_state=None, verbose=0, warm_start=False)"
      ]
     },
     "execution_count": 222,
     "metadata": {},
     "output_type": "execute_result"
    }
   ],
   "source": [
    "model = ensemble.RandomForestClassifier(n_estimators = 1000, max_features = 4, min_samples_leaf = 5, oob_score = True)\n",
    "model.fit(train_X, train_y)"
   ]
  },
  {
   "cell_type": "code",
   "execution_count": 223,
   "metadata": {
    "collapsed": false
   },
   "outputs": [
    {
     "data": {
      "text/plain": [
       "0.080000000000000002"
      ]
     },
     "execution_count": 223,
     "metadata": {},
     "output_type": "execute_result"
    }
   ],
   "source": [
    "model.oob_score_"
   ]
  },
  {
   "cell_type": "markdown",
   "metadata": {},
   "source": [
    "The out-of-bag (OOB) error is the average error for each z_i calculated using predictions from the trees that do not contain z_i in their respective bootstrap sample."
   ]
  },
  {
   "cell_type": "code",
   "execution_count": 224,
   "metadata": {
    "collapsed": false
   },
   "outputs": [
    {
     "data": {
      "text/plain": [
       "0.28108069699099802"
      ]
     },
     "execution_count": 224,
     "metadata": {},
     "output_type": "execute_result"
    }
   ],
   "source": [
    "cross_validation.cross_val_score(model, train_X, train_y, cv = 10).mean()"
   ]
  },
  {
   "cell_type": "markdown",
   "metadata": {
    "collapsed": true
   },
   "source": [
    "# Bosted Trees"
   ]
  },
  {
   "cell_type": "markdown",
   "metadata": {},
   "source": [
    "We then fit a Gradient Tree Boosting model to the data using the scikit-learn package. We will use 500 trees with each tree having a depth of 6 levels. we will also use the Huber loss function."
   ]
  },
  {
   "cell_type": "code",
   "execution_count": 232,
   "metadata": {
    "collapsed": false
   },
   "outputs": [],
   "source": [
    "from sklearn.metrics import mean_squared_error,r2_score\n",
    "from sklearn.ensemble import GradientBoostingRegressor\n",
    "\n",
    "params = {'n_estimators': 500, 'max_depth': 6, 'loss': 'huber','alpha':0.95}\n",
    "\n",
    "clf = GradientBoostingRegressor(**params).fit(train_X, train_y)"
   ]
  },
  {
   "cell_type": "markdown",
   "metadata": {},
   "source": [
    "the Mean Squared Error wasn’t much informative and used instead the R2 coefficient of determination. This measure is a number indicating how well a variable is able to predict the other. Values close to 0 means poor prediction and values close to 1 means perfect prediction. within our model we got 0.89 so it’s a good out of the box technique."
   ]
  },
  {
   "cell_type": "code",
   "execution_count": 233,
   "metadata": {
    "collapsed": false
   },
   "outputs": [
    {
     "name": "stdout",
     "output_type": "stream",
     "text": [
      "MSE: 6672.4976\n",
      "R2: 0.8955\n"
     ]
    }
   ],
   "source": [
    "mse = mean_squared_error(test_y, clf.predict(test_X))\n",
    "r2 = r2_score(test_y, clf.predict(test_X))\n",
    " \n",
    "print(\"MSE: %.4f\" % mse)\n",
    "print(\"R2: %.4f\" % r2)"
   ]
  },
  {
   "cell_type": "markdown",
   "metadata": {},
   "source": [
    "Let’s plot how does the training and testing error behave"
   ]
  },
  {
   "cell_type": "code",
   "execution_count": 229,
   "metadata": {
    "collapsed": false
   },
   "outputs": [
    {
     "name": "stderr",
     "output_type": "stream",
     "text": [
      "/Users/Edie/anaconda/lib/python2.7/site-packages/sklearn/utils/__init__.py:93: DeprecationWarning: Function staged_decision_function is deprecated;  and will be removed in 0.19\n",
      "  warnings.warn(msg, category=DeprecationWarning)\n"
     ]
    },
    {
     "data": {
      "text/plain": [
       "<matplotlib.text.Text at 0x112b76590>"
      ]
     },
     "execution_count": 229,
     "metadata": {},
     "output_type": "execute_result"
    },
    {
     "data": {
      "image/png": "[encoded data removed]",
      "text/plain": [
       "<matplotlib.figure.Figure at 0x1381a52d0>"
      ]
     },
     "metadata": {},
     "output_type": "display_data"
    }
   ],
   "source": [
    "import matplotlib.pyplot as plt\n",
    " \n",
    "# compute test set deviance\n",
    "test_score = np.zeros((params['n_estimators'],), dtype=np.float64)\n",
    " \n",
    "for i, y_pred in enumerate(clf.staged_decision_function(test_X)):\n",
    "    test_score[i] = clf.loss_(test_y, y_pred)\n",
    " \n",
    "plt.figure(figsize=(12, 6))\n",
    "plt.subplot(1, 1, 1)\n",
    "plt.title('Deviance')\n",
    "plt.plot(np.arange(params['n_estimators']) + 1, clf.train_score_, 'b-',\n",
    "                label='Training Set Deviance')\n",
    "plt.plot(np.arange(params['n_estimators']) + 1, test_score, 'r-',\n",
    "                label='Test Set Deviance')\n",
    "plt.legend(loc='upper right')\n",
    "plt.xlabel('Boosting Iterations')\n",
    "plt.ylabel('Deviance')"
   ]
  },
  {
   "cell_type": "markdown",
   "metadata": {},
   "source": [
    "As you can see in the previous graph, although the train error keeps going down as we add more trees to our model, the test error remains more or less constant and doesn’t incur in overfitting. This is mainly due to the shrinkage parameter and one of the good features of this algorithm."
   ]
  },
  {
   "cell_type": "markdown",
   "metadata": {},
   "source": [
    "Although base trees are easily interpretable when you are adding several of those trees interpretation is more difficult. You usually rely on some measures of the predictive power of each feature. Let’s plot feature importance in predicting the House Value."
   ]
  },
  {
   "cell_type": "code",
   "execution_count": 231,
   "metadata": {
    "collapsed": false
   },
   "outputs": [
    {
     "data": {
      "image/png": "[encoded data removed]",
      "text/plain": [
       "<matplotlib.figure.Figure at 0x13835a0d0>"
      ]
     },
     "metadata": {},
     "output_type": "display_data"
    }
   ],
   "source": [
    "feature_importance = clf.feature_importances_\n",
    "# make importances relative to max importance\n",
    "feature_importance = 100.0 * (feature_importance / feature_importance.max())\n",
    "sorted_idx = np.argsort(feature_importance)\n",
    "pos = np.arange(sorted_idx.shape[0]) + .5\n",
    "plt.figure(figsize=(12, 6))\n",
    "plt.subplot(1, 1, 1)\n",
    "plt.barh(pos, feature_importance[sorted_idx], align='center')\n",
    "plt.yticks(pos, X.columns[sorted_idx])\n",
    "plt.xlabel('Relative Importance')\n",
    "plt.title('Variable Importance')\n",
    "plt.show()"
   ]
  },
  {
   "cell_type": "code",
   "execution_count": 234,
   "metadata": {
    "collapsed": false
   },
   "outputs": [
    {
     "data": {
      "text/plain": [
       "Index([u'campaign_id', u'reach', u'cpa_min', u'cpa_max', u'cpa_median',\n",
       "       u'cpc_min', u'cpc_max', u'cpc_median', u'cpm_min', u'cpm_max',\n",
       "       u'cpm_median', u'clicks', u'spent', u'impressions', u'date',\n",
       "       u'cost_per_click', u'cost_per_impression', u'cost_per_conversion',\n",
       "       u'Objective_EVENT_RESPONSES', u'Objective_LEAD_GENERATION',\n",
       "       u'Objective_LOCAL_AWARENESS', u'Objective_MOBILE_APP_ENGAGEMENT',\n",
       "       u'Objective_MOBILE_APP_INSTALLS', u'Objective_NONE',\n",
       "       u'Objective_PAGE_LIKES', u'Objective_POST_ENGAGEMENT',\n",
       "       u'Objective_VIDEO_VIEWS', u'Objective_WEBSITE_CLICKS',\n",
       "       u'Objective_WEBSITE_CONVERSIONS', u'maxBid',\n",
       "       u'Bid_Type_CONVERSION_OPTIMIZE', u'Bid_Type_OPTIMIZE',\n",
       "       u'Bid_Type_ROTATE', u'Bid_Type_ROTATE_INDEFINITELY',\n",
       "       u'Bid_Type_automated', u'Bid_Type_cpc', u'Bid_Type_ocpm'],\n",
       "      dtype='object')"
      ]
     },
     "execution_count": 234,
     "metadata": {},
     "output_type": "execute_result"
    }
   ],
   "source": [
    "train_X.columns"
   ]
  },
  {
   "cell_type": "markdown",
   "metadata": {},
   "source": [
    "Once variable importance has been identified we could try to investigate how those variables interact between them. For instance, we can plot the dependence of the target variable with another variable has been averaged over the values of the other variables not being taken into consideration. Some variables present a clear monotonic dependence with the target value, while others seem not very related to the target variable even when they ranked high in the previous plot. This could be signaling an interaction between variables that could be further studied."
   ]
  },
  {
   "cell_type": "code",
   "execution_count": 242,
   "metadata": {
    "collapsed": false
   },
   "outputs": [
    {
     "data": {
      "image/png": "[encoded data removed]",
      "text/plain": [
       "<matplotlib.figure.Figure at 0x15336ad10>"
      ]
     },
     "metadata": {},
     "output_type": "display_data"
    }
   ],
   "source": [
    "from sklearn.ensemble.partial_dependence import plot_partial_dependence\n",
    " \n",
    "fig, axs = plot_partial_dependence(clf, train_X,\n",
    "                                   features=[11,17,13,12],\n",
    "                                   feature_names=train_X.columns,\n",
    "                                   n_cols=2)\n",
    " \n",
    "fig.show((16,16))\n",
    "#clicks, cost_per_conversion, impressions, spent"
   ]
  },
  {
   "cell_type": "code",
   "execution_count": null,
   "metadata": {
    "collapsed": true
   },
   "outputs": [],
   "source": []
  }
 ],
 "metadata": {
  "kernelspec": {
   "display_name": "Python 2",
   "language": "python",
   "name": "python2"
  },
  "language_info": {
   "codemirror_mode": {
    "name": "ipython",
    "version": 2
   },
   "file_extension": ".py",
   "mimetype": "text/x-python",
   "name": "python",
   "nbconvert_exporter": "python",
   "pygments_lexer": "ipython2",
   "version": "2.7.11"
  }
 },
 "nbformat": 4,
 "nbformat_minor": 0
}
